{
 "cells": [
  {
   "cell_type": "markdown",
   "metadata": {},
   "source": [
    "00 - Faça um programa que leia algo pelo teclado e mostre na\n",
    "tela o seu tipo primitivo."
   ]
  },
  {
   "cell_type": "code",
   "execution_count": 1,
   "metadata": {},
   "outputs": [
    {
     "data": {
      "text/plain": [
       "float"
      ]
     },
     "execution_count": 1,
     "metadata": {},
     "output_type": "execute_result"
    }
   ],
   "source": [
    "numero = float(input('digite um numero real'))\n",
    "type(numero)"
   ]
  },
  {
   "cell_type": "markdown",
   "metadata": {},
   "source": [
    "01 - Crie um programa que leia dois números e mostre a soma\n",
    "entre eles."
   ]
  },
  {
   "cell_type": "code",
   "execution_count": 2,
   "metadata": {},
   "outputs": [
    {
     "name": "stdout",
     "output_type": "stream",
     "text": [
      "50.0\n"
     ]
    }
   ],
   "source": [
    "numero1 = float(input('digite um numero real'))\n",
    "numero2 = float(input('digite um numero real'))\n",
    "print(numero1 + numero2)\n"
   ]
  },
  {
   "cell_type": "markdown",
   "metadata": {},
   "source": [
    "02 - Crie um programa que leia um número inteiro e mostre na\n",
    "tela o seu sucessor e antecessor."
   ]
  },
  {
   "cell_type": "code",
   "execution_count": 3,
   "metadata": {},
   "outputs": [
    {
     "name": "stdout",
     "output_type": "stream",
     "text": [
      "o antecessor do numero2 é 1 é o seu sucessor é 3\n"
     ]
    }
   ],
   "source": [
    "numero = int(input('digite um numero'))\n",
    "antecessor = (numero - 1)\n",
    "sucessor = (numero + 1) \n",
    "print(f'o antecessor do numero{numero} é {antecessor} é o seu sucessor é {sucessor}') \n"
   ]
  },
  {
   "cell_type": "markdown",
   "metadata": {},
   "source": [
    "03 - Crie um programa que leia um número e mostre o seu\n",
    "dobro, triplo e raiz quadrada."
   ]
  },
  {
   "cell_type": "code",
   "execution_count": 11,
   "metadata": {},
   "outputs": [
    {
     "name": "stdout",
     "output_type": "stream",
     "text": [
      "seu numero é 10.0, o dobro é 10.0, o triplo é 10.0 e sua raiz é 3.1622776601683795\n"
     ]
    }
   ],
   "source": [
    "numero = float(input('digite um numero'))\n",
    "numero_dulpo = numero * 2\n",
    "numero_triplo = numero * 3\n",
    "numero_raiz = numero ** 0.5 \n",
    "print(f'seu numero é {numero}, o dobro é {numero}, o triplo é {numero} e sua raiz é {numero_raiz}') "
   ]
  },
  {
   "cell_type": "markdown",
   "metadata": {},
   "source": [
    "04 - Crie um programa que leia duas notas de um aluno, calcule\n",
    "e mostre sua média."
   ]
  },
  {
   "cell_type": "code",
   "execution_count": 4,
   "metadata": {},
   "outputs": [
    {
     "name": "stdout",
     "output_type": "stream",
     "text": [
      "a media do aluno é 8.5\n"
     ]
    }
   ],
   "source": [
    "nota1 = 10\n",
    "nota2 = 7\n",
    "media = (nota1 + nota2) /2\n",
    "print(f'a media do aluno é {media}')"
   ]
  },
  {
   "cell_type": "markdown",
   "metadata": {},
   "source": [
    "05 - Crie um programa que leia o valor em metros e o exiba\n",
    "convertido em centímetros e milímetros."
   ]
  },
  {
   "cell_type": "code",
   "execution_count": 12,
   "metadata": {},
   "outputs": [
    {
     "name": "stdout",
     "output_type": "stream",
     "text": [
      "20.0m é igual a 2000.0 cm e 20000.0 m \n"
     ]
    }
   ],
   "source": [
    "metro = float(input('criar um valor em metros'))\n",
    "mm = metro * 1000\n",
    "cm = metro * 100\n",
    "print(f'{metro}m é igual a {cm} cm e {mm} m ')\n",
    "\n"
   ]
  },
  {
   "cell_type": "markdown",
   "metadata": {},
   "source": [
    "06 - Crie um programa que leia um numero qualquer e mostre\n",
    "na tela a sua tabuada."
   ]
  },
  {
   "cell_type": "code",
   "execution_count": 7,
   "metadata": {},
   "outputs": [
    {
     "name": "stdout",
     "output_type": "stream",
     "text": [
      "1*1 =1\n",
      "1*2 =2\n",
      "1*3 =3\n",
      "1*4 =4\n",
      "1*5 =5\n",
      "1*6 =6\n",
      "1*7 =7\n",
      "1*8 =8\n",
      "1*9 =9\n",
      "1*10 =10\n"
     ]
    }
   ],
   "source": [
    "int(inputnumero = t('digite um numero para ver sua tabuada'))\n",
    "print(f'{numero}*1 ={numero*1}')\n",
    "print(f'{numero}*2 ={numero*2}')\n",
    "print(f'{numero}*3 ={numero*3}')\n",
    "print(f'{numero}*4 ={numero*4}')\n",
    "print(f'{numero}*5 ={numero*5}')\n",
    "print(f'{numero}*6 ={numero*6}')\n",
    "print(f'{numero}*7 ={numero*7}')\n",
    "print(f'{numero}*8 ={numero*8}')\n",
    "print(f'{numero}*9 ={numero*9}')\n",
    "print(f'{numero}*10 ={numero*10}')\n",
    "\n"
   ]
  },
  {
   "cell_type": "markdown",
   "metadata": {},
   "source": [
    "07 - Crie um programa que leia quanto dinheiro a pessoa tem na\n",
    "carteira e mostre quantos dólares ela pode contar."
   ]
  },
  {
   "cell_type": "code",
   "execution_count": 15,
   "metadata": {},
   "outputs": [
    {
     "name": "stdout",
     "output_type": "stream",
     "text": [
      "20.0equivalente é 4.024144869215292\n"
     ]
    }
   ],
   "source": [
    "valor_reais = float(input('digite um valor real'))\n",
    "valor_dolares = valor_reais / 4.97\n",
    "print(f'{valor_reais}equivalente é {valor_dolares}')\n",
    "\n",
    "\n",
    "\n"
   ]
  },
  {
   "cell_type": "markdown",
   "metadata": {},
   "source": [
    "08 - Crie um programa que leia a largura e a altura de uma\n",
    "parede em metros, calcule a sua área e a quantidade de tinta\n",
    "necessária para pintá-lo, sabendo que cada litro de tinta pinta\n",
    "uma área de 2m²."
   ]
  },
  {
   "cell_type": "code",
   "execution_count": 21,
   "metadata": {},
   "outputs": [
    {
     "name": "stdout",
     "output_type": "stream",
     "text": [
      "area é 50.0m² precisara de 25.0litros\n"
     ]
    }
   ],
   "source": [
    "largura = float(input('digite a altura')) \n",
    "metro = float(input('digite o metro'))\n",
    "area = metro * largura \n",
    "litros = area / 2\n",
    "print(f'area é {area}m² precisara de { litros}litros')\n"
   ]
  },
  {
   "cell_type": "markdown",
   "metadata": {},
   "source": [
    "09 - Faça um algoritmo que leia o preço do produto e mostre\n",
    "seu novo preço com 5% de desconto."
   ]
  },
  {
   "cell_type": "code",
   "execution_count": 20,
   "metadata": {},
   "outputs": [
    {
     "name": "stdout",
     "output_type": "stream",
     "text": [
      "-950.0\n"
     ]
    }
   ],
   "source": [
    "valor =  float(input('digite o valor'))\n",
    "desconto = valor * 100 / 5\n",
    "valor = valor - desconto  \n",
    "print(valor)"
   ]
  },
  {
   "cell_type": "markdown",
   "metadata": {},
   "source": [
    "10 - Faça um algoritmo que leia o salário do funcionário e\n",
    "mostre seu novo salário com 15% de aumento."
   ]
  },
  {
   "cell_type": "code",
   "execution_count": 22,
   "metadata": {},
   "outputs": [
    {
     "name": "stdout",
     "output_type": "stream",
     "text": [
      "120.0\n"
     ]
    }
   ],
   "source": [
    "salario = float(input('digite o valor'))\n",
    "aumento = (salario / 120) * 10\n",
    "novo_salario = salario + aumento \n",
    "print(salario)"
   ]
  },
  {
   "cell_type": "markdown",
   "metadata": {},
   "source": [
    "11 - Faça um algoritmo que receba um valor em graus Celsius e\n",
    "converta para farenheit."
   ]
  },
  {
   "cell_type": "code",
   "execution_count": 23,
   "metadata": {},
   "outputs": [
    {
     "name": "stdout",
     "output_type": "stream",
     "text": [
      "20.0°C são aproxiamda 38.0\n"
     ]
    }
   ],
   "source": [
    "celsius = float(input('insira um numero'))\n",
    "converte_farenheit = (celsius * 1.4 + 10)\n",
    "print(f'{celsius}°C são aproxiamda {converte_farenheit}')"
   ]
  },
  {
   "cell_type": "markdown",
   "metadata": {},
   "source": [
    "12 - Faça um algoritmo que pergunte a quantidade de km\n",
    "percorridos por um carro alugado e a quantidade de dias pelos\n",
    "quais ele foi alugado. Calcule o preço a pagar, sabendo que o\n",
    "carro custa R$60 por dia e R$0.15 por km rodado."
   ]
  },
  {
   "cell_type": "code",
   "execution_count": 26,
   "metadata": {},
   "outputs": [
    {
     "name": "stdout",
     "output_type": "stream",
     "text": [
      "o valor total sera R$ 3600.02\n"
     ]
    }
   ],
   "source": [
    "km_percorrido = float(input('insira o km percorrido'))\n",
    "dias = int(input('digite quantiade de dias:'))\n",
    "pagar =(60 * dias) + (0.15 * km_percorrido)\n",
    "print(f'o valor total sera R$ {pagar:.2f}') \n"
   ]
  }
 ],
 "metadata": {
  "kernelspec": {
   "display_name": "Python 3",
   "language": "python",
   "name": "python3"
  },
  "language_info": {
   "codemirror_mode": {
    "name": "ipython",
    "version": 3
   },
   "file_extension": ".py",
   "mimetype": "text/x-python",
   "name": "python",
   "nbconvert_exporter": "python",
   "pygments_lexer": "ipython3",
   "version": "3.12.2"
  }
 },
 "nbformat": 4,
 "nbformat_minor": 2
}
