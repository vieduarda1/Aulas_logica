{
 "cells": [
  {
   "cell_type": "markdown",
   "metadata": {},
   "source": [
    "1- utilizando o comando while, exiba todos os números pares, de 1 a 20"
   ]
  },
  {
   "cell_type": "code",
   "execution_count": 12,
   "metadata": {},
   "outputs": [
    {
     "name": "stdout",
     "output_type": "stream",
     "text": [
      "o numero 2 é par\n",
      "o numero 4 é par\n",
      "o numero 6 é par\n",
      "o numero 8 é par\n",
      "o numero 10 é par\n",
      "o numero 12 é par\n",
      "o numero 14 é par\n",
      "o numero 16 é par\n",
      "o numero 18 é par\n",
      "o numero 20 é par\n"
     ]
    }
   ],
   "source": [
    "x = 1\n",
    "while x <= 20 :\n",
    "    if x % 2 == 0:\n",
    "      print(f'o numero {x} é par')\n",
    "    x= x + 1 \n",
    "\n"
   ]
  },
  {
   "cell_type": "markdown",
   "metadata": {},
   "source": [
    "2. Gere os 6 números do sorteio da mega-sena de forma aleatória."
   ]
  },
  {
   "cell_type": "code",
   "execution_count": 21,
   "metadata": {},
   "outputs": [
    {
     "name": "stdout",
     "output_type": "stream",
     "text": [
      "10\n",
      "11\n",
      "6\n",
      "5\n",
      "24\n"
     ]
    }
   ],
   "source": [
    "import random\n",
    "n = 0\n",
    "while n <= 5 :\n",
    "    n = n + 1\n",
    "    nmr = random.randint (1,60)\n",
    "    print(nmr)\n"
   ]
  },
  {
   "cell_type": "markdown",
   "metadata": {},
   "source": [
    "3. Receba alguns número e verifique a soma e a quantidade de todos os pares e ímpares\n",
    "digitados, digite 0 para não receber mais"
   ]
  },
  {
   "cell_type": "code",
   "execution_count": 26,
   "metadata": {},
   "outputs": [
    {
     "name": "stdout",
     "output_type": "stream",
     "text": [
      "soma = 5.0, a qtde de pares = 0 e qtde impar = 1\n",
      "a sm dos nr é 11.0\n"
     ]
    }
   ],
   "source": [
    "nr = 1\n",
    "sm= 0\n",
    "par = 0\n",
    "impar = 0\n",
    "while nr != 0 :\n",
    "    nr =float(input('digite algum numero [0 para parar]'))\n",
    "    sm = sm + nr\n",
    "    if nr == 0 : \n",
    "       print(f'a sm dos nr é {sm}')\n",
    "    elif nr % 2 == 0:\n",
    "      par = par + 1 \n",
    "    else :\n",
    "       impar = impar + 1\n",
    "       print(f'soma = {sm}, a qtde de pares = {par} e qtde impar = {impar}')\n",
    "\n",
    "       #LOSA CORREÇÃO       "
   ]
  },
  {
   "cell_type": "markdown",
   "metadata": {},
   "source": [
    "4. Faça um programa em Python que leia 5 valores inteiros e:\n",
    "• Encontre e mostre o maior valor\n",
    "• Encontre e mostre o menor valor\n",
    "• Calcule e mostre a média dos números lidos"
   ]
  },
  {
   "cell_type": "code",
   "execution_count": 2,
   "metadata": {},
   "outputs": [
    {
     "ename": "IndentationError",
     "evalue": "unindent does not match any outer indentation level (<string>, line 7)",
     "output_type": "error",
     "traceback": [
      "\u001b[1;36m  File \u001b[1;32m<string>:7\u001b[1;36m\u001b[0m\n\u001b[1;33m    x = x + 1\u001b[0m\n\u001b[1;37m             ^\u001b[0m\n\u001b[1;31mIndentationError\u001b[0m\u001b[1;31m:\u001b[0m unindent does not match any outer indentation level\n"
     ]
    }
   ],
   "source": [
    "nr = 0\n",
    "x = 0\n",
    "\n",
    "nr = int(input('digite um numero'))\n",
    "if nr <= 6:\n",
    "      print(f'o nr for menor  {x}')\n",
    "     x = x + 1\n",
    "     \n"
   ]
  },
  {
   "cell_type": "markdown",
   "metadata": {},
   "source": [
    "5. Faça um programa que receba um número e mostre seu fatorial. Ex. :\n",
    "5! = 5 * 4 * 3 * 2 * 1 = 120"
   ]
  },
  {
   "cell_type": "code",
   "execution_count": null,
   "metadata": {},
   "outputs": [],
   "source": []
  },
  {
   "cell_type": "markdown",
   "metadata": {},
   "source": [
    "6. Crie um programa com um menu, onde irá receber 2 números, e pelo menu perguntar qual\n",
    "operação deseja realizar\n",
    "[1] Somar os números\n",
    "[2] Subtrair os números\n",
    "[3] Multiplicar os números\n",
    "[4] Dividir os números\n",
    "[5] Sair"
   ]
  },
  {
   "cell_type": "code",
   "execution_count": null,
   "metadata": {},
   "outputs": [],
   "source": []
  }
 ],
 "metadata": {
  "kernelspec": {
   "display_name": "Python 3",
   "language": "python",
   "name": "python3"
  },
  "language_info": {
   "codemirror_mode": {
    "name": "ipython",
    "version": 3
   },
   "file_extension": ".py",
   "mimetype": "text/x-python",
   "name": "python",
   "nbconvert_exporter": "python",
   "pygments_lexer": "ipython3",
   "version": "3.12.2"
  }
 },
 "nbformat": 4,
 "nbformat_minor": 2
}
