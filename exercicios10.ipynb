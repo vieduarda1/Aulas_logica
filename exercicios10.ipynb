{
 "cells": [
  {
   "cell_type": "markdown",
   "metadata": {},
   "source": [
    "1. Escreva uma função que utilize uma variável global para contar o número de vezes que foi\n",
    "chamada. A função deve retornar o número atual de chamadas."
   ]
  },
  {
   "cell_type": "code",
   "execution_count": 9,
   "metadata": {},
   "outputs": [
    {
     "name": "stdout",
     "output_type": "stream",
     "text": [
      "1\n",
      "2\n"
     ]
    }
   ],
   "source": [
    "nr  = 0\n",
    "\n",
    "\n",
    "def funcao() :\n",
    "    global nr \n",
    "    nr += 1\n",
    "    print(nr)\n",
    "\n",
    "funcao()\n",
    "funcao()\n",
    "\n",
    "\n"
   ]
  },
  {
   "cell_type": "markdown",
   "metadata": {},
   "source": [
    "2. Crie um algoritmo que receba em variável global o valor atual do dólar e do euro, crie uma\n",
    "função que receba o valor a ser convertido e imprima a conversão em dólar e em euro"
   ]
  },
  {
   "cell_type": "code",
   "execution_count": 16,
   "metadata": {},
   "outputs": [
    {
     "name": "stdout",
     "output_type": "stream",
     "text": [
      "R$5.1 equivale a U$1.00 e $0.94\n"
     ]
    }
   ],
   "source": [
    "Dolar = 5.13 \n",
    "Euro =  5.46\n",
    "\n",
    "def conversao (real) :\n",
    "   dolar_convertido = real / Dolar\n",
    "   euro_convetido = real / Euro\n",
    "   print (f'R${real:.1f} equivale a U${dolar_convertido:.2f} e ${euro_convetido:.2f}')\n",
    "valor = float(input('Digite o valor em R$'))\n",
    "conversao(valor)\n",
    "\n",
    "        \n",
    "\n",
    "    "
   ]
  },
  {
   "cell_type": "markdown",
   "metadata": {},
   "source": [
    "3. Escreva uma função que recebe um nome e o adicione a uma lista de nomes global. Em\n",
    "seguida, escreva outra função que remova um elemento dessa lista global recebendo o nome."
   ]
  },
  {
   "cell_type": "code",
   "execution_count": 18,
   "metadata": {},
   "outputs": [
    {
     "name": "stdout",
     "output_type": "stream",
     "text": [
      "['Dalete ja que eu fiz']\n",
      "['Dalete ja que eu fiz', 'Maria']\n",
      "['Dalete ja que eu fiz']\n"
     ]
    }
   ],
   "source": [
    "list = []\n",
    "\n",
    "def adicionar (nome) :\n",
    "    list.append (nome)\n",
    "    print(list)\n",
    "def remover (nome) :\n",
    "    list.remove(nome)\n",
    "    print(list)\n",
    "\n",
    "adicionar('Dalete ja que eu fiz')\n",
    "adicionar('Maria')\n",
    "remover('Maria')\n",
    "\n",
    "    \n"
   ]
  },
  {
   "cell_type": "markdown",
   "metadata": {},
   "source": [
    "4. Crie um caixa eletrônico: Crie uma variável global para armazenar o saldo, crie função para\n",
    "depositar e sacar, recebendo o valor como parâmetro, crie outra função para consultar o\n",
    "saldo. Crie um menu interativo com while para navegar entre as funções:\n",
    "[1] Depositar [4] Parar programa\n",
    "[2] Sacar\n",
    "[3] Consultar saldo"
   ]
  },
  {
   "cell_type": "code",
   "execution_count": 23,
   "metadata": {},
   "outputs": [
    {
     "name": "stdout",
     "output_type": "stream",
     "text": [
      "menu\n",
      "[1] depositar\n",
      "[2] sacar\n",
      "[3] consultar\n",
      "[4] sair \n",
      "seu saldo R$ -1.00\n"
     ]
    }
   ],
   "source": [
    "saldo = 0\n",
    "\n",
    "def depositar (valor) :\n",
    "    global saldo\n",
    "    saldo = saldo + valor\n",
    "\n",
    "def sacar (valor) :\n",
    "    global saldo\n",
    "    saldo = saldo - valor \n",
    "\n",
    "def consultarsaldo():\n",
    "    print(f'seu saldo R$ {saldo:.2f}')\n",
    "    \n",
    "print('menu')\n",
    "print('[1] depositar')\n",
    "print('[2] sacar')\n",
    "print('[3] consultar')\n",
    "print('[4] sair ')\n",
    "while True :\n",
    "   \n",
    "    opcao = input('digite a opcao do menu')\n",
    "    if opcao == '1':\n",
    "        valor = float(input('digite o valor que deseja depositar'))\n",
    "        depositar(valor)\n",
    "    elif opcao == '2' :\n",
    "        valor = float(input('digite o valor para sacar'))\n",
    "        sacar(valor)\n",
    "    elif opcao == '3' :\n",
    "        consultarsaldo()\n",
    "    else :\n",
    "        break \n",
    "\n"
   ]
  },
  {
   "cell_type": "markdown",
   "metadata": {},
   "source": [
    "5. Desenhando um retângulo. Crie um algoritmo que receba em variável global um caractere\n",
    "especial. Em uma função receba 2 parâmetros altura e largura e desenhe de acordo com a\n",
    "largura, a quantidade de vezes que irá repetir o caractere, e de acordo com a altura, o número\n",
    "de linhas que será desenhado. Ex: Caractere +, largura 20 altura 5:\n",
    "\n",
    "++++++++++++++++++++\n",
    "++++++++++++++++++++\n",
    "++++++++++++++++++++\n",
    "++++++++++++++++++++\n",
    "++++++++++++++++++++"
   ]
  },
  {
   "cell_type": "code",
   "execution_count": 24,
   "metadata": {},
   "outputs": [
    {
     "name": "stdout",
     "output_type": "stream",
     "text": [
      "++++++++++++++++++++\n",
      "++++++++++++++++++++\n",
      "++++++++++++++++++++\n",
      "++++++++++++++++++++\n",
      "++++++++++++++++++++\n"
     ]
    }
   ],
   "source": [
    "caractere = '+'\n",
    "def desenharformar(l, a) :\n",
    "    global caractere\n",
    "    for i in range (a) :\n",
    "        print(caractere* l)\n",
    "\n",
    "desenharformar(20,5)\n"
   ]
  }
 ],
 "metadata": {
  "kernelspec": {
   "display_name": "Python 3",
   "language": "python",
   "name": "python3"
  },
  "language_info": {
   "codemirror_mode": {
    "name": "ipython",
    "version": 3
   },
   "file_extension": ".py",
   "mimetype": "text/x-python",
   "name": "python",
   "nbconvert_exporter": "python",
   "pygments_lexer": "ipython3",
   "version": "3.12.3"
  }
 },
 "nbformat": 4,
 "nbformat_minor": 2
}
