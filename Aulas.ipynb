{
 "cells": [
  {
   "cell_type": "code",
   "execution_count": 1,
   "metadata": {},
   "outputs": [
    {
     "name": "stdout",
     "output_type": "stream",
     "text": [
      "Olá, Mundo!\n",
      "Meu primeiro código em Python. Usando aspas duplas \n",
      "para duplicar uma linha pressionei o shift+ alt+ seta baixo\n",
      "123\n",
      "70.5\n",
      "True\n",
      "Sesi\n",
      "86\n",
      "60\n",
      "54\n",
      "11040\n",
      "2049.6\n",
      "0\n",
      "27\n",
      "7.0\n"
     ]
    }
   ],
   "source": [
    "print(\"Olá, Mundo!\") #Este é meu primeiro código\n",
    "print(\"Meu primeiro código em Python. Usando aspas duplas \")\n",
    "print('para duplicar uma linha pressionei o shift+ alt+ seta baixo')\n",
    "#a função print serve para exibir na tela alguma mensagem \n",
    "print(123)  #estou exibindo um número inteiro, por isso, não precisa da\"\"\n",
    "print(70.5) #número float \n",
    "print(True) #campo lógico (verdadeiro ou falso) (true ou false)\n",
    "print(\"Sesi\") #tipo string\n",
    "\n",
    "# soamando 2 números inteiros (o sinal de + para 2 número realiza a SOMA)\n",
    "print ('8' + '6')\n",
    "       \n",
    "#posso imprimir várias informações ao mesmo tempo separando-as por ,\n",
    "print( 10 + 50)  # + é o operador da SOMA ( numero inteiro ou decimal) \n",
    "print( 67 - 13)  # - é o operador da SUBTRAÇÃO (nº inteiro ou decimal) \n",
    "print( 480 * 23) # * é o operador de MULTIPLICAÇÃO\n",
    "print( 10248 / 5) # / é o operador de DIVISÃO  \n",
    "print( 35 % 5 ) # % é o operador do rssto da DIVISÃO ( MÓDULO)\n",
    "print( 3 ** 3 ) # ** é o operador de exponenciação 3³\n",
    "\n",
    "print ( (8 + 6) / 2) # o parênteses define a maior ordem de precedência "
   ]
  },
  {
   "cell_type": "code",
   "execution_count": 2,
   "metadata": {},
   "outputs": [
    {
     "name": "stdout",
     "output_type": "stream",
     "text": [
      "Bom Dia Flor!!\n"
     ]
    }
   ],
   "source": [
    "print(\"Bom Dia Flor!!\")"
   ]
  },
  {
   "cell_type": "markdown",
   "metadata": {},
   "source": [
    "08/03/2024 _ Laço de repetição - While\n"
   ]
  },
  {
   "cell_type": "code",
   "execution_count": null,
   "metadata": {},
   "outputs": [],
   "source": [
    "#errado, muito extenso e para numero de repetições muito altos é imposível fazer\n",
    "print(\"Eu vou prestar atenção na aula\")\n",
    "print(\"Eu vou prestar atenção na aula\")\n",
    "print(\"Eu vou prestar atenção na aula\")\n",
    "print(\"Eu vou prestar atenção na aula\")\n",
    "print(\"Eu vou prestar atenção na aula\")"
   ]
  },
  {
   "cell_type": "code",
   "execution_count": null,
   "metadata": {},
   "outputs": [],
   "source": [
    "#não faz nada\n",
    "x = 1\n",
    "while x == 10 :\n",
    "    print(\"Eu vou prestar atenção na aula\")\n",
    "print(\"FIM\")\n"
   ]
  },
  {
   "cell_type": "code",
   "execution_count": null,
   "metadata": {},
   "outputs": [],
   "source": [
    "#repete infinitamente\n",
    "x = 1\n",
    "while x == 1:\n",
    "    print(\"eu vou prestar atenção na aula\")\n",
    "print(\"FIM\")"
   ]
  },
  {
   "cell_type": "code",
   "execution_count": null,
   "metadata": {},
   "outputs": [],
   "source": [
    "X = 1\n",
    "while x <= 10 :\n",
    "    print(\"Eu vou prestar atenção na aula\")\n",
    "    x = x + 1 #contador # x = x + 1\n",
    "print(\"FIM\")\n"
   ]
  },
  {
   "cell_type": "code",
   "execution_count": null,
   "metadata": {},
   "outputs": [],
   "source": [
    "#contagem regressiva\n",
    "import time #importa uma biblioteca de tempo\n",
    "x = 10\n",
    "while x >= 0 :\n",
    "    print(x)\n",
    "    X = x - 1 \n",
    "    time.sleep(1) # dando pausa de 1s na execução\n",
    "print(\"feliz ano novo!\")"
   ]
  },
  {
   "cell_type": "code",
   "execution_count": null,
   "metadata": {},
   "outputs": [],
   "source": [
    "texto = ''\n",
    "while texto != \"sair\" :\n",
    "    texto = input(\"digite \"sair\" para terminar\")\n",
    "    print(f\"seja bem vindo, {texto}\")\n"
   ]
  },
  {
   "cell_type": "code",
   "execution_count": null,
   "metadata": {},
   "outputs": [],
   "source": [
    "senha_senai = \"12345\"\n",
    "tentativas = 0\n",
    "while True :\n",
    "    senha = input(\"qual é a senha? Desisto para sair\")\n",
    "    if senha == senha_senai:\n",
    "        print(\"Você hackeou a rede\")\n",
    "        break #para parar o while\n",
    "    elif senha == \"Desisto\" :\n",
    "        break\n",
    "    else :\n",
    "        tentativas += 1\n",
    "        if tentativas == 3 : #limite de tentativas\n",
    "            print(\"Voce esta preso tentando hackear a rede\")\n",
    "            break\n",
    "print(\"FIM\")\n"
   ]
  },
  {
   "cell_type": "markdown",
   "metadata": {},
   "source": [
    "21/03/2024 - Revisão de while"
   ]
  },
  {
   "cell_type": "code",
   "execution_count": null,
   "metadata": {},
   "outputs": [],
   "source": [
    "resp = 's'\n",
    "while resp == 's' :\n",
    "    resp = input('deseja continuar? [S/N]')\n",
    "\n",
    "print('FIM')"
   ]
  },
  {
   "cell_type": "code",
   "execution_count": 2,
   "metadata": {},
   "outputs": [
    {
     "name": "stdout",
     "output_type": "stream",
     "text": [
      "valor total R$ 154.30 Qtde produto 3\n"
     ]
    }
   ],
   "source": [
    "soma = 0\n",
    "qtde = 0\n",
    "while True :\n",
    "    valor = float(input('Digite o valor do produto [-1 para encerrar]'))\n",
    "    if valor == -1 :\n",
    "        break\n",
    "    soma = valor + soma\n",
    "    qtde = qtde + 1 \n",
    "print(f'valor total R$ {soma:.2f} Qtde produto {qtde}')\n"
   ]
  },
  {
   "cell_type": "code",
   "execution_count": 8,
   "metadata": {},
   "outputs": [
    {
     "name": "stdout",
     "output_type": "stream",
     "text": [
      "-=-=-=-=-=-=-=-=-=-=-=-=-=-\n",
      "  🛴 JOGO DA ADIVINHAÇÃO 🛴\n",
      "-=-=-=-=-=-=-=-=-=-=-=-=-=-\n",
      "você chutou 5.tente um numero menor👇\n",
      "você chutou 2.tente um numero ☝\n",
      "você chutou 3.Parabens você acertou👏\n"
     ]
    }
   ],
   "source": [
    "import random\n",
    "#sorteando um número de 1 a 100\n",
    "nrsorteado = random.randint(1,100)\n",
    "\n",
    "print('-=-=-=-=-=-=-=-=-=-=-=-=-=-')\n",
    "print('  🛴 JOGO DA ADIVINHAÇÃO 🛴')\n",
    "print('-=-=-=-=-=-=-=-=-=-=-=-=-=-')\n",
    "\n",
    "acertou = False\n",
    "while acertou == False:\n",
    "    chute = int(input('♪ digite um numero entre 1 e 100:')) \n",
    "    if chute == nrsorteado :\n",
    "        print(f'você chutou {chute}.Parabens você acertou👏')\n",
    "        acertou = True \n",
    "    elif chute > nrsorteado :\n",
    "        print(f'você chutou {chute}.tente um numero menor👇')\n",
    "    else : \n",
    "        print(f'você chutou {chute}.tente um numero ☝')\n",
    "\n",
    "\n",
    "\n"
   ]
  },
  {
   "cell_type": "markdown",
   "metadata": {},
   "source": [
    "22/03/2024 For"
   ]
  },
  {
   "cell_type": "code",
   "execution_count": 3,
   "metadata": {},
   "outputs": [
    {
     "name": "stdout",
     "output_type": "stream",
     "text": [
      "1\n",
      "2\n",
      "3\n",
      "4\n",
      "5\n",
      "6\n",
      "7\n",
      "8\n",
      "9\n",
      "10\n"
     ]
    }
   ],
   "source": [
    "for x in range (10) :\n",
    "    x = x + 1\n",
    "    print(x)"
   ]
  },
  {
   "cell_type": "code",
   "execution_count": 5,
   "metadata": {},
   "outputs": [
    {
     "name": "stdout",
     "output_type": "stream",
     "text": [
      "entregando os notebooks\n",
      "1\n",
      "pegar o notebook 1\n",
      "pegar o mouse 1\n",
      "levar o notebook o (a) 21\n",
      "começar a aula\n",
      "2\n",
      "pegar o notebook 2\n",
      "pegar o mouse 2\n",
      "levar o notebook o (a) 2\n",
      "começar a aula\n",
      "3\n",
      "pegar o notebook 3\n",
      "pegar o mouse 3\n",
      "levar o notebook o (a) 3\n",
      "começar a aula\n",
      "4\n",
      "pegar o notebook 4\n",
      "pegar o mouse 4\n",
      "levar o notebook o (a) 4S\n",
      "começar a aula\n",
      "5\n",
      "não pegar o notebook 5\n",
      "começar a aula\n",
      "6\n",
      "não pegar o notebook 6\n",
      "começar a aula\n",
      "7\n",
      "não pegar o notebook 7\n",
      "começar a aula\n",
      "8\n",
      "não pegar o notebook 8\n",
      "começar a aula\n",
      "9\n",
      "não pegar o notebook 9\n",
      "começar a aula\n",
      "10\n",
      "não pegar o notebook 10\n",
      "começar a aula\n",
      "11\n",
      "não pegar o notebook 11\n",
      "começar a aula\n",
      "12\n",
      "não pegar o notebook 12\n",
      "começar a aula\n",
      "13\n",
      "não pegar o notebook 13\n",
      "começar a aula\n",
      "14\n",
      "não pegar o notebook 14\n",
      "começar a aula\n",
      "15\n",
      "não pegar o notebook 15\n",
      "começar a aula\n",
      "16\n",
      "não pegar o notebook 16\n",
      "começar a aula\n",
      "17\n",
      "não pegar o notebook 17\n",
      "começar a aula\n",
      "18\n",
      "não pegar o notebook 18\n",
      "começar a aula\n",
      "19\n",
      "não pegar o notebook 19\n",
      "começar a aula\n",
      "20\n",
      "não pegar o notebook 20\n",
      "começar a aula\n",
      "21\n",
      "não pegar o notebook 21\n",
      "começar a aula\n",
      "22\n",
      "não pegar o notebook 22\n",
      "começar a aula\n",
      "23\n",
      "não pegar o notebook 23\n",
      "começar a aula\n",
      "24\n",
      "não pegar o notebook 24\n",
      "começar a aula\n",
      "25\n",
      "não pegar o notebook 25\n",
      "começar a aula\n",
      "26\n",
      "não pegar o notebook 26\n",
      "começar a aula\n",
      "27\n",
      "não pegar o notebook 27\n",
      "começar a aula\n",
      "28\n",
      "não pegar o notebook 28\n",
      "começar a aula\n",
      "29\n",
      "não pegar o notebook 29\n",
      "começar a aula\n",
      "30\n",
      "não pegar o notebook 30\n",
      "começar a aula\n",
      "31\n",
      "não pegar o notebook 31\n",
      "começar a aula\n",
      "32\n",
      "não pegar o notebook 32\n",
      "começar a aula\n"
     ]
    }
   ],
   "source": [
    "print('entregando os notebooks')\n",
    "for nr in range (32) :\n",
    "    nr = nr + 1\n",
    "    print(nr)\n",
    "    nome = input(f'quem é o nº {nr}')\n",
    "    presente = input(f'o(a) {nome} veio para escola ? [S/N]')\n",
    "    if presente  == 'S' :\n",
    "        print(f'pegar o notebook {nr}')\n",
    "        print(f'pegar o mouse {nr}')\n",
    "        print(f'levar o notebook o (a) {nome}')\n",
    "    else :\n",
    "        print(f'não pegar o notebook {nr}')\n",
    "\n",
    "    print('começar a aula')"
   ]
  },
  {
   "cell_type": "code",
   "execution_count": 6,
   "metadata": {},
   "outputs": [
    {
     "name": "stdout",
     "output_type": "stream",
     "text": [
      "5\n",
      "6\n",
      "7\n",
      "8\n",
      "9\n"
     ]
    }
   ],
   "source": [
    "for x in range (5,10) :\n",
    "  print(x)"
   ]
  },
  {
   "cell_type": "code",
   "execution_count": 8,
   "metadata": {},
   "outputs": [
    {
     "name": "stdout",
     "output_type": "stream",
     "text": [
      "5\n",
      "7\n",
      "9\n",
      "11\n",
      "13\n",
      "15\n",
      "17\n",
      "19\n",
      "21\n",
      "23\n",
      "25\n",
      "27\n",
      "29\n"
     ]
    }
   ],
   "source": [
    "for x in range (5,30,2) :\n",
    "   print (x)"
   ]
  },
  {
   "cell_type": "code",
   "execution_count": 13,
   "metadata": {},
   "outputs": [
    {
     "name": "stdout",
     "output_type": "stream",
     "text": [
      "8 x 0 = 0\n",
      "8 x 1 = 8\n",
      "8 x 2 = 16\n",
      "8 x 3 = 24\n",
      "8 x 4 = 32\n",
      "8 x 5 = 40\n",
      "8 x 6 = 48\n",
      "8 x 7 = 56\n",
      "8 x 8 = 64\n",
      "8 x 9 = 72\n",
      "8 x 10 = 80\n"
     ]
    }
   ],
   "source": [
    "n= 8\n",
    "for x in range (11) :\n",
    "    print(f'{n} x {x} = {n*x}')\n"
   ]
  },
  {
   "cell_type": "code",
   "execution_count": 14,
   "metadata": {},
   "outputs": [
    {
     "name": "stdout",
     "output_type": "stream",
     "text": [
      "0 x 10 = 0\n",
      "1 x 10 = 10\n",
      "2 x 10 = 20\n",
      "3 x 10 = 30\n",
      "4 x 10 = 40\n",
      "5 x 10 = 50\n",
      "6 x 10 = 60\n",
      "7 x 10 = 70\n",
      "8 x 10 = 80\n",
      "9 x 10 = 90\n",
      "10 x 10 = 100\n"
     ]
    }
   ],
   "source": [
    "n = int(input('digite um numero')) #adiciona o int(numero inteiro), quando a pessoa quer digitar um numero\n",
    "for n in range (11) :\n",
    "    print(f'{n} x {x} = {n * x}')"
   ]
  },
  {
   "cell_type": "code",
   "execution_count": 15,
   "metadata": {},
   "outputs": [
    {
     "name": "stdout",
     "output_type": "stream",
     "text": [
      "S\n",
      "E\n",
      "S\n",
      "I\n",
      "/\n",
      "S\n",
      "E\n",
      "N\n",
      "A\n",
      "I\n",
      "FIM\n"
     ]
    }
   ],
   "source": [
    "for letra in 'SESI/SENAI' :\n",
    "    print(letra)\n",
    "print('FIM')\n"
   ]
  },
  {
   "cell_type": "code",
   "execution_count": 16,
   "metadata": {},
   "outputs": [
    {
     "name": "stdout",
     "output_type": "stream",
     "text": [
      "0\n",
      "1\n",
      "2\n",
      "3\n",
      "4\n",
      "5\n",
      "6\n",
      "7\n",
      "8\n",
      "9\n"
     ]
    }
   ],
   "source": [
    "for x in range (100) :\n",
    " if x == 10:\n",
    "  break\n",
    " print(x)"
   ]
  },
  {
   "cell_type": "markdown",
   "metadata": {},
   "source": [
    "28/03/2024   - Variáveis compostas - Veteroes / listas "
   ]
  },
  {
   "cell_type": "code",
   "execution_count": 8,
   "metadata": {},
   "outputs": [
    {
     "name": "stdout",
     "output_type": "stream",
     "text": [
      "['Abacaxi', 'Uva', 'Maça', 'Banana']\n",
      "Uva\n"
     ]
    }
   ],
   "source": [
    "Frutas = ['Abacaxi' , 'Uva', 'Maça' , 'Banana']\n",
    "print(Frutas)\n",
    "print(Frutas[1])\n",
    "\n",
    "\n",
    "#Declaração de uma lista vazia \n",
    "lista_vazia = []\n",
    "\n",
    "#Declaração de uma lista de núemros \n",
    "numeros = [5,8,10,40,3]\n",
    "\n",
    "#Declaração de uma lista de stings\n",
    "nomes = ['Ana' , 'João', 'Maria']\n",
    "\n",
    "#Declaração de uma lista mista\n",
    "lista_mista = [1 , \"teste\", True, 3.5]\n"
   ]
  },
  {
   "cell_type": "code",
   "execution_count": 23,
   "metadata": {},
   "outputs": [
    {
     "name": "stdout",
     "output_type": "stream",
     "text": [
      "['Abacaxi', 'Uva', 'Melancia', 'Banana']\n",
      "['Abacaxi', 'Uva', 'Melancia', 'Banana', 'Laranja']\n",
      "['Abacaxi', 'Uva', 'morango', 'Melancia', 'Banana', 'Laranja']\n",
      "['Uva', 'morango']\n"
     ]
    }
   ],
   "source": [
    "Frutas = ['Abacaxi' , 'Uva', 'Maça' , 'Banana']\n",
    "Frutas[2] = 'Melancia'\n",
    "print(Frutas)\n",
    "\n",
    "#incluindo um novo item no final da lista\n",
    "Frutas.append('Laranja')\n",
    "print(Frutas)\n",
    "\n",
    "#incluindo um novo item em alguma posição especifica \n",
    "Frutas.insert(2,'morango')\n",
    "print(Frutas)\n",
    "\n",
    "#incluindo um novo item DEL ou POP   (EXCLUI)\n",
    "del Frutas [3]\n",
    "#outra manenira, mas fazendo a mesma função \n",
    "Frutas.pop(3)\n",
    "#outra maneira\n",
    "Frutas.remove('Abacaxi')\n",
    "\n",
    "#Excluindo o último item da lista \n",
    "Frutas.pop()\n",
    "print(Frutas)\n",
    "\n",
    "\n",
    "\n",
    "\n"
   ]
  },
  {
   "cell_type": "code",
   "execution_count": 24,
   "metadata": {},
   "outputs": [
    {
     "name": "stdout",
     "output_type": "stream",
     "text": [
      "Tangerina\n",
      "['Abacaxi', 'Uva', 'Maça', 'Banana']\n",
      "['Uva', 'Maça', 'Banana', 'Tangerina']\n",
      "Tangerina\n",
      "5\n"
     ]
    }
   ],
   "source": [
    "Frutas = ['Abacaxi' , 'Uva', 'Maça' , 'Banana', 'Tangerina']\n",
    "print(Frutas[4]) #posição especifica\n",
    "print(Frutas[0:4]) #Da posiçã 0 pegar itens\n",
    "print(Frutas[1:])  #Da posição 1 até o último\n",
    "print(Frutas[-1])  #Nr de itens do fim pro ínicio\n",
    "print(len(Frutas))  #Total de itens da lista "
   ]
  },
  {
   "cell_type": "code",
   "execution_count": null,
   "metadata": {},
   "outputs": [],
   "source": []
  },
  {
   "cell_type": "code",
   "execution_count": 25,
   "metadata": {},
   "outputs": [
    {
     "name": "stdout",
     "output_type": "stream",
     "text": [
      "['Abacaxi', 'Banana', 'Maça', 'Tangerina', 'Uva']\n",
      "['Uva', 'Tangerina', 'Maça', 'Banana', 'Abacaxi']\n"
     ]
    }
   ],
   "source": [
    "Frutas = ['Abacaxi' , 'Uva', 'Maça' , 'Banana', 'Tangerina']\n",
    "Frutas.sort()   #ordenando a lista em ordem crescente \n",
    "print(Frutas)\n",
    "Frutas.reverse()  #Ordenando a lista em ordem descrescente \n",
    "print(Frutas)"
   ]
  },
  {
   "cell_type": "markdown",
   "metadata": {},
   "source": [
    "04/04/2024- interações da lista"
   ]
  },
  {
   "cell_type": "code",
   "execution_count": 4,
   "metadata": {},
   "outputs": [
    {
     "name": "stdout",
     "output_type": "stream",
     "text": [
      "É uma vogal\n"
     ]
    }
   ],
   "source": [
    "\n",
    "\n",
    " \n",
    "\n",
    "#Criando listas de vogais  \n",
    "\n",
    "vogais = ['a','e','i','o','u'] \n",
    "\n",
    "if 'o' in vogais: \n",
    "\n",
    "    print (\"É uma vogal\") \n",
    "\n",
    "else: \n",
    "\n",
    "    print ('Não é uma vogal') "
   ]
  },
  {
   "cell_type": "code",
   "execution_count": 8,
   "metadata": {},
   "outputs": [
    {
     "name": "stdout",
     "output_type": "stream",
     "text": [
      "É uma consoante\n"
     ]
    }
   ],
   "source": [
    "#Para saber se a letra digitada é vogal ou consoante \n",
    "\n",
    "vogais = ['a','e','i','o','u'] \n",
    "\n",
    "consoante = ['b', 'c', 'd', 'f', 'g', 'h', 'j', 'k' ,'l', 'm', 'n', 'p' ,'q' ,'r',' s', 't' ,'v', 'w' ,'x' ,'y', 'z'] \n",
    "\n",
    "#Recebendo um caractere digitado pelo usuário \n",
    "\n",
    "letra = input('Digite uma letra') \n",
    "\n",
    "# o método .lower() deixa todas as letras digitadas como minúsculas \n",
    "\n",
    "# o método .upper() deixa todas as letras digitadas como maiusculas \n",
    "\n",
    "# lemos da seguinte forma: \n",
    "\n",
    "# SE letra em MINÚSCULA ESTIVER na lista de vogais ENTÃO \n",
    "\n",
    "if letra.lower() in vogais: \n",
    "\n",
    "    print ('É uma vogal') \n",
    "\n",
    "elif letra.lower() in consoante:  \n",
    "\n",
    "    print ('É uma consoante') \n",
    "\n",
    "else: \n",
    "\n",
    "    print('não é uma letra')"
   ]
  },
  {
   "cell_type": "code",
   "execution_count": 9,
   "metadata": {},
   "outputs": [
    {
     "name": "stdout",
     "output_type": "stream",
     "text": [
      "Pelé\n",
      "Maradona\n",
      "Messi\n",
      "Cristiano Ronaldo\n"
     ]
    }
   ],
   "source": [
    "#Printar os itens na ordem da lista porém um embaixo do outro: \n",
    "\n",
    "listaNomes= ['Pelé','Maradona','Messi','Cristiano Ronaldo'] \n",
    "\n",
    "for nome in listaNomes: \n",
    "\n",
    "    print (nome) \n",
    "\n",
    " "
   ]
  },
  {
   "cell_type": "code",
   "execution_count": 10,
   "metadata": {},
   "outputs": [
    {
     "name": "stdout",
     "output_type": "stream",
     "text": [
      "26\n"
     ]
    }
   ],
   "source": [
    "#Fazer soma dos números da lista: \n",
    "\n",
    "listaNrs = [4,6,2,5,9] \n",
    "\n",
    "soma = 0 \n",
    "\n",
    "for nr in listaNrs: \n",
    "\n",
    "    soma = soma + nr \n",
    "\n",
    "print (soma) "
   ]
  },
  {
   "cell_type": "code",
   "execution_count": 13,
   "metadata": {},
   "outputs": [
    {
     "name": "stdout",
     "output_type": "stream",
     "text": [
      "A fruta Maçã está na posição 0\n",
      "A fruta Banana está na posição 1\n",
      "A fruta Abacaxi está na posição 2\n",
      "A fruta Uva está na posição 3\n"
     ]
    }
   ],
   "source": [
    "#Sistema fala a posição de cada item da lista: \n",
    "\n",
    "frutas = ['Maçã','Banana','Abacaxi','Uva'] \n",
    "\n",
    "for pos,frutas in enumerate(frutas): \n",
    "\n",
    "    print(f'A fruta {frutas} está na posição {pos}') \n",
    "\n",
    " "
   ]
  },
  {
   "cell_type": "code",
   "execution_count": 14,
   "metadata": {},
   "outputs": [
    {
     "name": "stdout",
     "output_type": "stream",
     "text": [
      "Celular\n",
      "Notebook\n",
      "Televisão\n",
      "Tablet\n",
      "Headset\n"
     ]
    }
   ],
   "source": [
    "#Sistema separa em lista os itens que estão separados por vírgula (a cada vírgula ele separa os itens um embaixo do outro): \n",
    "\n",
    "produtos = 'Celular,Notebook,Televisão,Tablet,Headset' \n",
    "\n",
    "\n",
    "for produtos in lista_produtos: \n",
    "\n",
    "    print (produtos) "
   ]
  },
  {
   "cell_type": "code",
   "execution_count": 15,
   "metadata": {},
   "outputs": [
    {
     "name": "stdout",
     "output_type": "stream",
     "text": [
      "S\n",
      "E\n",
      "N\n",
      "A\n",
      "I\n",
      "____________________________\n",
      "S\n",
      "I\n"
     ]
    }
   ],
   "source": [
    "#Separa a palavra da variável em letras e fala a primeira e a última letra: \n",
    "\n",
    "palavra = 'SENAI' \n",
    "\n",
    "for letra in palavra: \n",
    "\n",
    "    print (letra) \n",
    "\n",
    "print ('____________________________') \n",
    "\n",
    "print (palavra[0]) \n",
    "\n",
    "print (palavra[-1]) \n",
    "\n",
    " "
   ]
  },
  {
   "cell_type": "markdown",
   "metadata": {},
   "source": [
    "05/04/2024"
   ]
  },
  {
   "cell_type": "code",
   "execution_count": 16,
   "metadata": {},
   "outputs": [
    {
     "name": "stdout",
     "output_type": "stream",
     "text": [
      "1º\n"
     ]
    }
   ],
   "source": [
    "#crinado uma lista vazia \n",
    "listacomidas = []\n",
    "#laço de repetição sem jm nr de execução definida \n",
    "while True :\n",
    "    #recebendo informação do usuario e armazenando em uma variavel\n",
    "    comida = input('digite uma comida que você mais gosta:')\n",
    "    #inserando o valor da variavel no final da lista \n",
    "    listacomidas.append(comida)\n",
    "    #obtendo a resposta do usuario se deseja continuar\n",
    "    resp = input('deseja continuar ? [s/N]')\n",
    "    #verificando condiçao da resposta dele, se for N ou n sair do laço \n",
    "    if resp in 'Nn' :\n",
    "        #parando o laço de repetição while\n",
    "        break \n",
    "\n",
    "# fora do while  - após finalizar sua executação e encontrar o break \n",
    "# laço de repetição para exibir os intens e suas posições \n",
    "for pos , comida in enumerate (listacomidas) :\n",
    "    #exibindo as variaveis de cada intem da lista \n",
    "    print(f'{pos+1}º{comida}')\n",
    "\n",
    "\n"
   ]
  },
  {
   "cell_type": "markdown",
   "metadata": {},
   "source": [
    "11/04/2024 - funções "
   ]
  },
  {
   "cell_type": "code",
   "execution_count": 1,
   "metadata": {},
   "outputs": [
    {
     "name": "stdout",
     "output_type": "stream",
     "text": [
      "--------------------\n",
      "SESI/ SENAI\n",
      "--------------------\n"
     ]
    }
   ],
   "source": [
    "print('-' * 20)\n",
    "print('SESI/ SENAI')\n",
    "print('-'* 20)"
   ]
  },
  {
   "cell_type": "code",
   "execution_count": 8,
   "metadata": {},
   "outputs": [
    {
     "name": "stdout",
     "output_type": "stream",
     "text": [
      "--------------------\n",
      "SESI / SENAI\n",
      "--------------------\n",
      "--------------------\n",
      "--------------------\n",
      "--------------------\n"
     ]
    }
   ],
   "source": [
    "def Linha () :\n",
    "    print('-' * 20)\n",
    "     \n",
    "\n",
    "Linha()\n",
    "print('SESI / SENAI')\n",
    "Linha()\n",
    "Linha()\n",
    "Linha()\n",
    "Linha()\n",
    "    "
   ]
  },
  {
   "cell_type": "code",
   "execution_count": 9,
   "metadata": {},
   "outputs": [],
   "source": [
    "def cabeçário () :\n",
    "    print('- '* 20)\n",
    "    print('SESI/ SENAI')\n",
    "    print('-' * 20)"
   ]
  },
  {
   "cell_type": "code",
   "execution_count": 11,
   "metadata": {},
   "outputs": [
    {
     "name": "stdout",
     "output_type": "stream",
     "text": [
      "--------------------\n",
      "SENAI / SESI\n",
      "--------------------\n",
      "--------------------\n",
      "SENAI / SESI\n",
      "--------------------\n",
      "--------------------\n",
      "SENAI / SESI\n",
      "--------------------\n"
     ]
    }
   ],
   "source": [
    "def Linha () : \n",
    "    print ('-' * 20)\n",
    "\n",
    "def cabecallho ():\n",
    "    Linha ()\n",
    "    print('SENAI / SESI')\n",
    "    Linha ()\n",
    "    \n",
    "cabecallho ()\n",
    "cabecallho ()\n",
    "cabecallho ()\n"
   ]
  },
  {
   "cell_type": "code",
   "execution_count": 21,
   "metadata": {},
   "outputs": [
    {
     "name": "stdout",
     "output_type": "stream",
     "text": [
      "vitoria tenha um bom dia \n",
      "vitoria tenha um bom dia \n",
      "vitoria tenha um bom dia \n"
     ]
    }
   ],
   "source": [
    "\n",
    "def Saudacao() :\n",
    "    nome = input('digite seu nome')\n",
    "    print(f'{nome}tenha um bom dia ')\n",
    "\n",
    "Saudacao()\n",
    "Saudacao()\n",
    "Saudacao()\n",
    "    \n",
    "    "
   ]
  },
  {
   "cell_type": "code",
   "execution_count": 22,
   "metadata": {},
   "outputs": [
    {
     "name": "stdout",
     "output_type": "stream",
     "text": [
      "--------------------\n",
      "SESI\n",
      "--------------------\n",
      "--------------------\n",
      "SENAI\n",
      "--------------------\n",
      "--------------------\n",
      "ESCOLA\n",
      "--------------------\n"
     ]
    }
   ],
   "source": [
    "def cabecallho (texto):\n",
    "    Linha ()\n",
    "    print( texto )\n",
    "    Linha ()\n",
    "    \n",
    "cabecallho('SESI')\n",
    "cabecallho('SENAI')\n",
    "cabecallho('ESCOLA')"
   ]
  },
  {
   "cell_type": "code",
   "execution_count": 26,
   "metadata": {},
   "outputs": [
    {
     "name": "stdout",
     "output_type": "stream",
     "text": [
      "a soma de 150 + 5 é igual 155\n",
      "a soma de 9025 + 25 é igual 9050\n",
      "a soma de 1589 + 36 é igual 1625\n",
      "a soma de 869 + 49 é igual 918\n"
     ]
    }
   ],
   "source": [
    "def soma (n1, n2):\n",
    "    resp = n1 + n2\n",
    "    print(f'a soma de {n1} + {n2} é igual {resp}')\n",
    "\n",
    "soma (150,5)\n",
    "soma (9025,25)\n",
    "soma (1589,36)\n",
    "soma (869,49)"
   ]
  },
  {
   "cell_type": "code",
   "execution_count": 28,
   "metadata": {},
   "outputs": [
    {
     "name": "stdout",
     "output_type": "stream",
     "text": [
      "o 20 é par\n",
      "o 3 é impar\n"
     ]
    }
   ],
   "source": [
    "def ParImpar (n1):\n",
    "    if n1 % 2 == 0 :\n",
    "        print(f'o {n1} é par')\n",
    "    else :\n",
    "        print(f'o {n1} é impar')\n",
    "\n",
    "ParImpar(20)\n",
    "ParImpar(3)"
   ]
  },
  {
   "cell_type": "code",
   "execution_count": 33,
   "metadata": {},
   "outputs": [
    {
     "name": "stdout",
     "output_type": "stream",
     "text": [
      "9.0\n",
      "6.0\n"
     ]
    }
   ],
   "source": [
    "def media (n1,n2) :\n",
    "    resp = (n1+n2) / 2\n",
    "    return (resp)\n",
    "   \n",
    "resultado_media  = media(10,8)\n",
    "print(resultado_media)\n",
    "print(media(10,2))\n",
    "    "
   ]
  },
  {
   "cell_type": "code",
   "execution_count": 38,
   "metadata": {},
   "outputs": [
    {
     "name": "stdout",
     "output_type": "stream",
     "text": [
      "20/5/2001\n",
      "19/10/2008\n",
      "15/6/1981\n"
     ]
    }
   ],
   "source": [
    "def FormatarData (dia,mes,ano) :\n",
    "     data = (f'{dia}/{mes}/{ano}')\n",
    "     return(data) #retorno\n",
    "\n",
    "print(FormatarData(20,5,2001))\n",
    "print(FormatarData(19,10,2008)) \n",
    "print(FormatarData(15,6,1981))\n",
    "\n",
    "\n",
    "    "
   ]
  },
  {
   "cell_type": "markdown",
   "metadata": {},
   "source": [
    "12/04/2024 - Escopo de variáveis (variável local e global)\n"
   ]
  },
  {
   "cell_type": "code",
   "execution_count": 14,
   "metadata": {},
   "outputs": [
    {
     "name": "stdout",
     "output_type": "stream",
     "text": [
      "SESI\n"
     ]
    }
   ],
   "source": [
    "def nomeescola ():\n",
    "  escola = 'SESI'\n",
    "  print(escola)\n",
    "nomeescola ()\n"
   ]
  },
  {
   "cell_type": "code",
   "execution_count": 16,
   "metadata": {},
   "outputs": [
    {
     "name": "stdout",
     "output_type": "stream",
     "text": [
      "valor ANTES da função SESI\n",
      "valor dentro da função SESI\n",
      "valor DERPOIS da função SESI\n"
     ]
    }
   ],
   "source": [
    "def nomeescola (): \n",
    "    escola = 'SESI'\n",
    "    print(f'valor dentro da função {escola}')\n",
    "\n",
    "escola = 'SESI'\n",
    "print(f'valor ANTES da função {escola}')\n",
    "nomeescola ()\n",
    "print(f'valor DERPOIS da função {escola}')\n"
   ]
  },
  {
   "cell_type": "code",
   "execution_count": 17,
   "metadata": {},
   "outputs": [
    {
     "name": "stdout",
     "output_type": "stream",
     "text": [
      "SENAI\n"
     ]
    }
   ],
   "source": [
    "escola = 'SENAI'\n",
    "print(escola) #variavel GLOBAl, 'que esta fora', que esta disponivel em qualquer função "
   ]
  },
  {
   "cell_type": "code",
   "execution_count": 20,
   "metadata": {},
   "outputs": [
    {
     "name": "stdout",
     "output_type": "stream",
     "text": [
      "valor ANTES da função SENAI\n",
      "valor dentro da função SESI\n",
      "valor DEPOIS da função SENAI\n"
     ]
    }
   ],
   "source": [
    "def nomescola ():\n",
    "    #caso eu queira atualizar o conteúdo da variável escola\n",
    "    #preciso escrever que ela é a global \n",
    "    global escola \n",
    "    escola = 'SESI' #alterando o valor da variavel global \n",
    "    print(f'valor dentro da FUNÇÃO{escola}')\n",
    "\n",
    "\n",
    "    escola = 'SENAI'\n",
    "print(f'valor ANTES da função {escola}')\n",
    "nomeescola ()\n",
    "print(f'valor DEPOIS da função {escola }')"
   ]
  },
  {
   "cell_type": "code",
   "execution_count": 25,
   "metadata": {},
   "outputs": [
    {
     "name": "stdout",
     "output_type": "stream",
     "text": [
      "fora da função 10\n",
      "dentro da funçaõ 10\n",
      "fora da funçaõ 10\n"
     ]
    }
   ],
   "source": [
    "x = 10 # x é uma varaivel global \n",
    "# podemos acessar x fora de uma função também \n",
    "print('fora da função', x)\n",
    "\n",
    "def minhafuncao() :\n",
    "    x = 1 # <- variavel local \n",
    "    x = x + 1\n",
    "print('dentro da funçaõ' , x)\n",
    "\n",
    "minhafuncao()\n",
    "print ('fora da funçaõ' , x)\n"
   ]
  },
  {
   "cell_type": "code",
   "execution_count": 23,
   "metadata": {},
   "outputs": [
    {
     "name": "stdout",
     "output_type": "stream",
     "text": [
      "fora da função 10\n",
      "dentro da funçaõ 11\n",
      "fora da funçaõ 11\n"
     ]
    }
   ],
   "source": [
    "x = 10 # x é uma varaivel global \n",
    "# podemos acessar x fora de uma função também \n",
    "print('fora da função', x)\n",
    "\n",
    "def minhafuncao() :\n",
    "   global x #dizenzo que usaremos a variavel x global \n",
    "x = x + 1\n",
    "print('dentro da funçaõ' , x)\n",
    "\n",
    "minhafuncao()\n",
    "print ('fora da funçaõ' , x)\n"
   ]
  },
  {
   "cell_type": "code",
   "execution_count": 29,
   "metadata": {},
   "outputs": [],
   "source": [
    "def minhafuncao () :\n",
    "    '''\n",
    "    aqui posso escrever a descrição do que faz a minha descrição \n",
    " '''\n",
    "    minhafuncao()"
   ]
  },
  {
   "cell_type": "code",
   "execution_count": null,
   "metadata": {},
   "outputs": [],
   "source": []
  }
 ],
 "metadata": {
  "kernelspec": {
   "display_name": "Python 3",
   "language": "python",
   "name": "python3"
  },
  "language_info": {
   "codemirror_mode": {
    "name": "ipython",
    "version": 3
   },
   "file_extension": ".py",
   "mimetype": "text/x-python",
   "name": "python",
   "nbconvert_exporter": "python",
   "pygments_lexer": "ipython3",
   "version": "3.12.3"
  }
 },
 "nbformat": 4,
 "nbformat_minor": 2
}
