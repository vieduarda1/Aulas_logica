{
 "cells": [
  {
   "cell_type": "markdown",
   "metadata": {},
   "source": [
    "1. Peça o salário do funcionário e calcule o valor do IRPF e INSS do funcionário e quanto ele irá\n",
    "receber no final do mês, considerando a seguinte tabela"
   ]
  },
  {
   "cell_type": "code",
   "execution_count": 7,
   "metadata": {},
   "outputs": [
    {
     "name": "stdout",
     "output_type": "stream",
     "text": [
      "-1850.0\n"
     ]
    }
   ],
   "source": [
    "               #IRPF\n",
    "salario = float(input('digite o salario'))\n",
    "if salario <= 2826.65:\n",
    "   print(((salario/100) * 7.5)- salario)\n",
    "elif salario <= 3757.05:\n",
    "   print(((salario/100) * 15 ) - salario)\n",
    "elif salario <= 4664.68:\n",
    "   print(((salario/100) * 22.5) - salario )\n",
    "elif salario <= 4664.68:\n",
    "    print(((salario/100) * 27.5) - salario)\n",
    "\n"
   ]
  },
  {
   "cell_type": "code",
   "execution_count": 12,
   "metadata": {},
   "outputs": [
    {
     "name": "stdout",
     "output_type": "stream",
     "text": [
      "9000.0\n"
     ]
    }
   ],
   "source": [
    "           #INSS\n",
    "salario = float(input('digite o salario'))\n",
    "if salario <= 1412.00:\n",
    "   print(((salario/100) * 7.5) - salario)\n",
    "elif salario <= 2666.68:\n",
    "   print(((salario/100) * 9 ) - salario)\n",
    "elif salario <= 4000.03:\n",
    "    print(((salario/100) * 12) - salario )\n",
    "elif salario <= 7786.02:\n",
    "    print(((salario/100) * 14) - salario)\n",
    "elif  salario > 7786.02:\n",
    "    print(salario - 908.85)\n"
   ]
  },
  {
   "cell_type": "markdown",
   "metadata": {},
   "source": [
    "#FEITO NA LOUSA - INSS "
   ]
  },
  {
   "cell_type": "code",
   "execution_count": null,
   "metadata": {},
   "outputs": [],
   "source": [
    "salario = float (input (\"Digite o salário:\"))\n",
    "if salario <= 2259 :\n",
    "    descontoirpf = 0\n",
    "elif salario <= 2826.65 :\n",
    "    descontoirpf = salario * 0.075  \n",
    "elif salario <= 3751.05 :\n",
    "    descontoirpf = salario * 0.15  \n",
    "elif salario <= 4664.68 :\n",
    "    descontoirpf = salario * 0.225 \n",
    "else :\n",
    "    descontoirpf = salario * 0.275 "
   ]
  },
  {
   "cell_type": "markdown",
   "metadata": {},
   "source": [
    "IRPF"
   ]
  },
  {
   "cell_type": "code",
   "execution_count": null,
   "metadata": {},
   "outputs": [],
   "source": [
    "salario = float (input (\"Digite o salário:\"))\n",
    "if salario <= 2259 :\n",
    "    descontoirpf = 0\n",
    "elif salario <= 2826.65 :\n",
    "    descontoirpf = salario * 0.075  \n",
    "elif salario <= 3751.05 :\n",
    "    descontoirpf = salario * 0.15  \n",
    "elif salario <= 4664.68 :\n",
    "    descontoirpf = salario * 0.225 \n",
    "else :\n",
    "    descontoirpf = salario * 0.275 \n",
    "\n",
    "#Considerando a tabela de INSS\n",
    "if salario <= 1412 :\n",
    "    descontoinss = salario * 0.075 \n",
    "elif salario <= 2666.68 :\n",
    "    descontoinss = salario * 0.09\n",
    "elif salario <= 4000.03 :\n",
    "    descontoinss = salario * 0.12 \n",
    "elif salario <= 7786.02 :\n",
    "    descontoinss = salario * 0.14\n",
    "else :\n",
    "    descontoinss = 908.85\n",
    "\n",
    "salarioliquido = salario - descontoirpf - descontoinss\n",
    "print (f' Seu salário líquido será: R$ {salarioliquido: .2f}')"
   ]
  },
  {
   "cell_type": "markdown",
   "metadata": {},
   "source": [
    "2. Para melhorar nosso desafio 01, vamos criar um novo calculando de forma real.\n",
    "Peça o salário do funcionário e calcule o valor do IRPF e INSS do funcionário e quanto ele irá\n",
    "receber no final do mês, considerando as seguintes tabelas e fórmulas:\n",
    "- Para calcular o INSS é calculado sobre o valor bruto do salário\n",
    "- Para calcular o IRPF é aplicado a tabela abaixo sobre o valor bruto menos o valor do INSS"
   ]
  },
  {
   "cell_type": "code",
   "execution_count": null,
   "metadata": {},
   "outputs": [],
   "source": [
    "#IRPF\n",
    "salario = float(input('digite o salario'))\n",
    "if salario <= 2826.65:\n",
    "   print(((salario/100) * 7.5)- salario)\n",
    "elif salario <= 3757.05:\n",
    "   print(((salario/100) * 15 ) - salario)\n",
    "elif salario <= 4664.68:\n",
    "   print(((salario/100) * 22.5) - salario )\n",
    "elif salario <= 4664.68:\n",
    "    print(((salario/100) * 27.5) - salario)"
   ]
  }
 ],
 "metadata": {
  "kernelspec": {
   "display_name": "Python 3",
   "language": "python",
   "name": "python3"
  },
  "language_info": {
   "codemirror_mode": {
    "name": "ipython",
    "version": 3
   },
   "file_extension": ".py",
   "mimetype": "text/x-python",
   "name": "python",
   "nbconvert_exporter": "python",
   "pygments_lexer": "ipython3",
   "version": "3.12.2"
  }
 },
 "nbformat": 4,
 "nbformat_minor": 2
}
