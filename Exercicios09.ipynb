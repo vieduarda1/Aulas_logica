{
 "cells": [
  {
   "cell_type": "markdown",
   "metadata": {},
   "source": [
    " 1. Crie uma função sem parâmetros que exiba uma linha com 50 * , e uma mensagem de boas\n",
    "vindas, chame essa função por 4 vezes"
   ]
  },
  {
   "cell_type": "code",
   "execution_count": 14,
   "metadata": {},
   "outputs": [
    {
     "name": "stdout",
     "output_type": "stream",
     "text": [
      "**************************************************\n",
      "BEM VINDASS\n",
      "**************************************************\n",
      "**************************************************\n",
      "BEM VINDASS\n",
      "**************************************************\n",
      "**************************************************\n",
      "BEM VINDASS\n",
      "**************************************************\n",
      "**************************************************\n",
      "BEM VINDASS\n",
      "**************************************************\n"
     ]
    }
   ],
   "source": [
    "def Linha () : \n",
    "    print ('*' * 50)\n",
    "\n",
    "def cabecallho ():\n",
    "    Linha ()\n",
    "    print('BEM VINDASS')\n",
    "    Linha ()\n",
    "    \n",
    "cabecallho ()\n",
    "cabecallho ()\n",
    "cabecallho ()\n",
    "cabecallho ()\n"
   ]
  },
  {
   "cell_type": "markdown",
   "metadata": {},
   "source": [
    "2. Crie uma função que contenha uma lista com as cores primárias e exiba cada cor em uma\n",
    "linha"
   ]
  },
  {
   "cell_type": "code",
   "execution_count": 15,
   "metadata": {},
   "outputs": [
    {
     "name": "stdout",
     "output_type": "stream",
     "text": [
      "azul\n",
      "vermelho\n",
      "amarelo\n"
     ]
    }
   ],
   "source": [
    "def coresprimarias():\n",
    "  listacores = ['azul','vermelho','amarelo']\n",
    "  for nome in listacores: \n",
    "    print (nome)\n",
    "coresprimarias()\n",
    "    \n",
    "    "
   ]
  },
  {
   "cell_type": "markdown",
   "metadata": {},
   "source": [
    "3. Crie uma função que recebe um número como parâmetro e exiba a tabuada até o 10, chame\n",
    "essa função por 3 vezes enviando parâmetros diferentes"
   ]
  },
  {
   "cell_type": "code",
   "execution_count": 19,
   "metadata": {},
   "outputs": [
    {
     "name": "stdout",
     "output_type": "stream",
     "text": [
      "3 x 3 = 0\n",
      "3 x 3 = 3\n",
      "3 x 3 = 6\n",
      "3 x 3 = 9\n",
      "3 x 3 = 12\n",
      "3 x 3 = 15\n",
      "3 x 3 = 18\n",
      "3 x 3 = 21\n",
      "3 x 3 = 24\n",
      "3 x 3 = 27\n",
      "3 x 3 = 30\n"
     ]
    }
   ],
   "source": [
    "def nr (n) :\n",
    "  for nr_recebe in range (11) :\n",
    "     print(f'{n} x {n} = {n*nr_recebe}')\n",
    "nr (3)"
   ]
  },
  {
   "cell_type": "markdown",
   "metadata": {},
   "source": [
    "4. Crie uma função que receba 2 números e o operador matemático para realizar a operação\n",
    "(Ex. envio os parâmetros 2 e 5 e *, fazer a multiplicação), tratar as operações + - * / **"
   ]
  },
  {
   "cell_type": "code",
   "execution_count": 22,
   "metadata": {},
   "outputs": [
    {
     "name": "stdout",
     "output_type": "stream",
     "text": [
      "15\n"
     ]
    }
   ],
   "source": [
    "def operaçao (n1 ,n2, opr) :\n",
    "    if opr == '+' :\n",
    "        resp = n1 + n2\n",
    "    elif opr == '-' : \n",
    "        resp = n1 - n2\n",
    "    elif opr == '*' :\n",
    "        resp = n1 * n2\n",
    "    elif opr == '/' :\n",
    "        resp = n1 / n2\n",
    "    elif opr == '**' :\n",
    "        resp = n1 + n2\n",
    "        print(resp)\n",
    "operaçao(6,9,'+')\n",
    "operaçao(6,9,  '*')\n",
    "operaçao(6,9,  '**')\n",
    "operaçao(6,9 ,  '/')\n",
    "operaçao(6,9,  '-')\n",
    "\n",
    "\n",
    "\n",
    "     \n"
   ]
  },
  {
   "cell_type": "markdown",
   "metadata": {},
   "source": [
    "5. Crie uma função que gere uma senha aleatória, deve receber como parâmetro a quantidade\n",
    "de caracteres que terá a senha, crie uma lista com todos os caracteres disponíveis para a\n",
    "senha e com o random sorteie a qual de dígitos terá a senha"
   ]
  },
  {
   "cell_type": "code",
   "execution_count": 27,
   "metadata": {},
   "outputs": [
    {
     "name": "stdout",
     "output_type": "stream",
     "text": [
      "@@T*gddk\n"
     ]
    }
   ],
   "source": [
    "import random \n",
    "def SenhaAleatorio (tamanho) :\n",
    "    listacaracteres = 'abcdefghijklMNOPQRSTUV!@$%¨&*()149529652614'\n",
    "    senha = ''\n",
    "    for i in range (tamanho) :\n",
    "        senha = senha + random.choice(listacaracteres)\n",
    "    return(senha)\n",
    "senhatemp = SenhaAleatorio(8) \n",
    "print(senhatemp)"
   ]
  }
 ],
 "metadata": {
  "kernelspec": {
   "display_name": "Python 3",
   "language": "python",
   "name": "python3"
  },
  "language_info": {
   "codemirror_mode": {
    "name": "ipython",
    "version": 3
   },
   "file_extension": ".py",
   "mimetype": "text/x-python",
   "name": "python",
   "nbconvert_exporter": "python",
   "pygments_lexer": "ipython3",
   "version": "3.12.3"
  }
 },
 "nbformat": 4,
 "nbformat_minor": 2
}
