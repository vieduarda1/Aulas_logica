{
 "cells": [
  {
   "cell_type": "markdown",
   "metadata": {},
   "source": [
    "1. Crie uma lista de filmes com 7 filmes a sua escolha, e faça as seguintes operações com ela:\n",
    "• Exiba apenas o primeiro o filme da lista\n",
    "• Exiba o filme da posição 4\n",
    "• Substitua o filme da última posição e exiba a lista\n",
    "• Insira um novo filme no final da lista e exiba a lista\n",
    "• Insira um novo filme na posição 5 e exiba a lista\n",
    "• Exclua o primeiro filme e exiba a lista\n",
    "• Exclua o último filme e exiba a lista\n",
    "• Exiba os 3 primeiros filmes da lista\n",
    "• Exiba os 4 últimos filmes da lista\n",
    "• Exiba a quantidade de filmes atualmente na lista\n",
    "• Ordene os filmes em ordem decrescente e exiba-os"
   ]
  },
  {
   "cell_type": "code",
   "execution_count": 5,
   "metadata": {},
   "outputs": [
    {
     "name": "stdout",
     "output_type": "stream",
     "text": [
      "Minha mãe é uma peça\n",
      "['Minha mãe é uma peça', ' O rei Leão', 'Tot story', 'Os vingadores', 'Rapunzel', 'Um sonho de liberdade', 'Cinderela']\n",
      "Rapunzel\n",
      "['Minha mãe é uma peça', ' O rei Leão', 'Tot story', 'Os vingadores', 'Rapunzel', 'Um sonho de liberdade', 'Cinderela']\n",
      "['Minha mãe é uma peça', ' O rei Leão', 'Tot story', 'Os vingadores', 'Rapunzel', 'Um sonho de liberdade', 'Avatar']\n",
      "['Minha mãe é uma peça', ' O rei Leão', 'Tot story', 'Os vingadores', 'Rapunzel', 'Um sonho de liberdade', 'Avatar', 'Rango']\n",
      "['Minha mãe é uma peça', ' O rei Leão', 'Tot story', 'Os vingadores', 'Rapunzel', 'O Senhor dos Anéis', 'Um sonho de liberdade', 'Avatar', 'Rango']\n",
      "[' O rei Leão', 'Tot story', 'Os vingadores', 'Rapunzel', 'O Senhor dos Anéis', 'Um sonho de liberdade', 'Avatar', 'Rango']\n",
      "[' O rei Leão', 'Tot story', 'Os vingadores', 'Rapunzel', 'O Senhor dos Anéis', 'Um sonho de liberdade', 'Avatar']\n",
      "[' O rei Leão', 'Tot story', 'Os vingadores']\n",
      "[' O rei Leão', 'Tot story', 'Os vingadores', 'Rapunzel', 'O Senhor dos Anéis', 'Um sonho de liberdade', 'Avatar']\n",
      "['O Senhor dos Anéis', 'Um sonho de liberdade', 'Avatar']\n",
      "[' O rei Leão', 'Tot story', 'Os vingadores', 'Rapunzel', 'O Senhor dos Anéis', 'Um sonho de liberdade', 'Avatar']\n",
      "7\n",
      "[' O rei Leão', 'Tot story', 'Os vingadores', 'Rapunzel', 'O Senhor dos Anéis', 'Um sonho de liberdade', 'Avatar']\n",
      "['Avatar', 'Um sonho de liberdade', 'O Senhor dos Anéis', 'Rapunzel', 'Os vingadores', 'Tot story', ' O rei Leão']\n"
     ]
    }
   ],
   "source": [
    "Filmes = ['Minha mãe é uma peça' , ' O rei Leão' , 'Tot story', 'Os vingadores', 'Rapunzel', 'Um sonho de liberdade', 'Cinderela']\n",
    "#• Exiba apenas o primeiro o filme da lista\n",
    "print(Filmes[0])\n",
    "print(Filmes)\n",
    "# Exiba o filme da posição 4\n",
    "print(Filmes[4])\n",
    "print(Filmes)\n",
    "#• Substitua o filme da última posição e exiba a lista\n",
    "Filmes[6] = 'Avatar'\n",
    "print(Filmes)\n",
    "#• Insira um novo filme no final da lista e exiba a lista\n",
    "Filmes.append('Rango')\n",
    "print(Filmes)\n",
    "#• Insira um novo filme na posição 5 e exiba a lista\n",
    "Filmes.insert(5,'O Senhor dos Anéis')\n",
    "print(Filmes)\n",
    "#• Exclua o primeiro filme e exiba a lista\n",
    "del Filmes[0]\n",
    "print(Filmes)\n",
    "#• Exclua o último filme e exiba a lista\n",
    "Filmes.pop()\n",
    "print(Filmes)\n",
    "#• Exiba os 3 primeiros filmes da lista\n",
    "print(Filmes[0:3])\n",
    "print(Filmes)\n",
    "#• Exiba os 4 últimos filmes da lista\n",
    "print(Filmes[4:])\n",
    "print(Filmes)\n",
    "#• Exiba a quantidade de filmes atualmente na lista\n",
    "print(len(Filmes))\n",
    "print(Filmes)\n",
    "#• filmes em ordem decrescente e exiba-os\n",
    "Filmes.reverse()\n",
    "print(Filmes)\n",
    "\n",
    "\n",
    "\n",
    "\n",
    "\n",
    "\n",
    "\n"
   ]
  },
  {
   "cell_type": "markdown",
   "metadata": {},
   "source": [
    "2. Crie uma lista com os 20 times do campeonato brasileiro de futebol\n",
    "• Exiba o primeiro time da lista como campeão\n",
    "• Exiba os 4 primeiros times como que irão jogar a libertadores\n",
    "• Exiba os 4 últimos times como os que estão rebaixados para a série B"
   ]
  },
  {
   "cell_type": "code",
   "execution_count": null,
   "metadata": {},
   "outputs": [],
   "source": [
    "times =['São paulo','Atlético-MG','Flamengo','Botafogo','Grêmio','Red Bull Bragantino','Fluminense','Fortaleza','Cuiabá','Vasco','Bahia','Vitória','Juventude','Criciúma','Atlético -GO','Corinthians','Cruzeiro','Athletico-PR','Internacional','Atlético-GO']\n",
    "print(times)\n",
    "print(f'{times[0]} é campeão')\n",
    "print(f'{times[0:4]} irão jogar na libertadores')\n",
    "print(f'{times[16:]} estão rebaixados para a série B')"
   ]
  }
 ],
 "metadata": {
  "kernelspec": {
   "display_name": "Python 3",
   "language": "python",
   "name": "python3"
  },
  "language_info": {
   "codemirror_mode": {
    "name": "ipython",
    "version": 3
   },
   "file_extension": ".py",
   "mimetype": "text/x-python",
   "name": "python",
   "nbconvert_exporter": "python",
   "pygments_lexer": "ipython3",
   "version": "3.12.3"
  }
 },
 "nbformat": 4,
 "nbformat_minor": 2
}
