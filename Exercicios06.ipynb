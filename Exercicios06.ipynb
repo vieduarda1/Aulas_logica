{
 "cells": [
  {
   "cell_type": "markdown",
   "metadata": {},
   "source": [
    "1- Utilizando o comando for, exiba todos os números ímpares, de 1 a 40"
   ]
  },
  {
   "cell_type": "code",
   "execution_count": 2,
   "metadata": {},
   "outputs": [
    {
     "name": "stdout",
     "output_type": "stream",
     "text": [
      "o numero 1 é impar\n",
      "o numero 3 é impar\n",
      "o numero 5 é impar\n",
      "o numero 7 é impar\n",
      "o numero 9 é impar\n",
      "o numero 11 é impar\n",
      "o numero 13 é impar\n",
      "o numero 15 é impar\n",
      "o numero 17 é impar\n",
      "o numero 19 é impar\n",
      "o numero 21 é impar\n",
      "o numero 23 é impar\n",
      "o numero 25 é impar\n",
      "o numero 27 é impar\n",
      "o numero 29 é impar\n",
      "o numero 31 é impar\n",
      "o numero 33 é impar\n",
      "o numero 35 é impar\n",
      "o numero 37 é impar\n",
      "o numero 39 é impar\n"
     ]
    }
   ],
   "source": [
    "for x in range (40) :\n",
    "    if x % 2 == 1 :\n",
    "      print(f'o numero {x} é impar') "
   ]
  },
  {
   "cell_type": "markdown",
   "metadata": {},
   "source": [
    "2. Gere os 6 números do sorteio da mega-sena de forma aleatória."
   ]
  },
  {
   "cell_type": "code",
   "execution_count": null,
   "metadata": {},
   "outputs": [
    {
     "name": "stdout",
     "output_type": "stream",
     "text": [
      "o n sorteado é 24 \n",
      "o n sorteado é 47 \n",
      "o n sorteado é 55 \n",
      "o n sorteado é 1 \n",
      "o n sorteado é 60 \n",
      "o n sorteado é 13 \n"
     ]
    }
   ],
   "source": [
    "\n",
    "import random\n",
    "for n in range  (6) :\n",
    "    n = random.randint (1,60)\n",
    "    print(f'o n sorteado é {n} ')\n",
    "\n",
    " \n",
    "   \n"
   ]
  },
  {
   "cell_type": "markdown",
   "metadata": {},
   "source": [
    "3. Receba 5 números e verifique a soma e a quantidade de todos os pares e ímpares digitados"
   ]
  },
  {
   "cell_type": "code",
   "execution_count": 4,
   "metadata": {},
   "outputs": [
    {
     "name": "stdout",
     "output_type": "stream",
     "text": [
      " a soma total é 2, voce digitou 1 pares e 0 ímpares\n",
      " a soma total é 5, voce digitou 1 pares e 1 ímpares\n",
      " a soma total é 9, voce digitou 2 pares e 1 ímpares\n",
      " a soma total é 14, voce digitou 2 pares e 2 ímpares\n",
      " a soma total é 14, voce digitou 3 pares e 2 ímpares\n"
     ]
    }
   ],
   "source": [
    "\n",
    "soma = 0\n",
    "impar = 0\n",
    "par = 0\n",
    "for n in range (5) :\n",
    "    n = int(input('digite algum numero'))\n",
    "    soma = soma + n \n",
    "    if n % 2 == 0 :\n",
    "        par = par + 1\n",
    "    else : \n",
    "        impar = impar + 1\n",
    "    print(f' a soma total é {soma}, voce digitou {par} pares e {impar} ímpares')\n",
    "    \n",
    "\n",
    "\n",
    "\n"
   ]
  },
  {
   "cell_type": "markdown",
   "metadata": {},
   "source": [
    "4. Solicite os parâmetros de início, fim e passo para o laço de repetição usando a função range()\n",
    "e exiba o valor atual da variável de controle a cada iteração. range( x , y , z )"
   ]
  },
  {
   "cell_type": "code",
   "execution_count": 8,
   "metadata": {},
   "outputs": [
    {
     "name": "stdout",
     "output_type": "stream",
     "text": [
      "5\n",
      "7\n"
     ]
    }
   ],
   "source": [
    "inicio = int(input('digite um n inicial'))\n",
    "fim = int(input('digite o valor de fim'))\n",
    "passo = int(input('digite o passo'))\n",
    "for x in range(inicio, fim , passo):\n",
    "    print(x)\n"
   ]
  },
  {
   "cell_type": "markdown",
   "metadata": {},
   "source": [
    "5. Ler do teclado a idade e o sexo de 10 pessoas, calcule e imprima:\n",
    "• idade média das mulheres\n",
    "• idade média dos homens\n",
    "• idade média do grupo"
   ]
  },
  {
   "cell_type": "code",
   "execution_count": 7,
   "metadata": {},
   "outputs": [
    {
     "name": "stdout",
     "output_type": "stream",
     "text": [
      "média das mulheres 19.333333333333332\n",
      "média dos homens 7.5 \n",
      "média do grupo 0.05172413793103449 \n"
     ]
    }
   ],
   "source": [
    "mulheres = 0\n",
    "homens = 0\n",
    "qntd_mulheres = 0\n",
    "qntd_homens = 0\n",
    "for x in range (5) :\n",
    "    idade = int(input(f'digite idade :'))\n",
    "    sexo = input('digite o sexo: [F/M]')\n",
    "    if sexo == 'f':\n",
    "        mulheres = mulheres + idade \n",
    "        qntd_mulheres = qntd_mulheres + 1\n",
    "    else :\n",
    "        homens = homens + idade \n",
    "        qntd_homens = qntd_homens + 1\n",
    "print(f'média das mulheres {mulheres / qntd_mulheres}')\n",
    "print(f'média dos homens {homens / qntd_homens} ')\n",
    "print(f'média do grupo {(homens/mulheres) / (qntd_homens + qntd_mulheres)} ')\n",
    "\n",
    "\n",
    "\n"
   ]
  },
  {
   "cell_type": "markdown",
   "metadata": {},
   "source": [
    "6. Escreva um programa que mostre todos os números entre 5 e 100 que são divisíveis por 7. Os\n",
    "números obtidos devem ser impressos em sequência."
   ]
  },
  {
   "cell_type": "code",
   "execution_count": 3,
   "metadata": {},
   "outputs": [
    {
     "name": "stdout",
     "output_type": "stream",
     "text": [
      "7\n",
      "14\n",
      "21\n",
      "28\n",
      "35\n",
      "42\n",
      "49\n",
      "56\n",
      "63\n",
      "70\n",
      "77\n",
      "84\n",
      "91\n",
      "98\n"
     ]
    }
   ],
   "source": [
    "for nr in range (5,100) :\n",
    "  if nr % 7 == 0:\n",
    "    print(nr)"
   ]
  },
  {
   "cell_type": "markdown",
   "metadata": {},
   "source": [
    " 7-Escreva um programa em Python que receba uma string do usuário e mostre de trás para\n",
    "frente."
   ]
  },
  {
   "cell_type": "code",
   "execution_count": 14,
   "metadata": {},
   "outputs": [
    {
     "name": "stdout",
     "output_type": "stream",
     "text": [
      ",gnippohs on somav\n"
     ]
    }
   ],
   "source": [
    "palavra = input('digite uma palavra')\n",
    "nova_palavra = ''\n",
    "for letra in palavra :\n",
    "    nova_palavra = letra +nova_palavra\n",
    "\n",
    "print(nova_palavra)"
   ]
  }
 ],
 "metadata": {
  "kernelspec": {
   "display_name": "Python 3",
   "language": "python",
   "name": "python3"
  },
  "language_info": {
   "codemirror_mode": {
    "name": "ipython",
    "version": 3
   },
   "file_extension": ".py",
   "mimetype": "text/x-python",
   "name": "python",
   "nbconvert_exporter": "python",
   "pygments_lexer": "ipython3",
   "version": "3.12.2"
  }
 },
 "nbformat": 4,
 "nbformat_minor": 2
}
