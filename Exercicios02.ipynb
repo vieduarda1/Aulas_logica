{
 "cells": [
  {
   "cell_type": "code",
   "execution_count": 13,
   "metadata": {},
   "outputs": [
    {
     "name": "stdout",
     "output_type": "stream",
     "text": [
      "reprovado\n"
     ]
    }
   ],
   "source": [
    "nota1 = float(input('digite um numero'))\n",
    "nota2 = float(input('digite outro numero'))\n",
    "media = (nota1 + nota2) / 2\n",
    "if media > 7:\n",
    "    print('aprovado')\n",
    "else: \n",
    "    print('reprovado')\n",
    "\n"
   ]
  },
  {
   "cell_type": "markdown",
   "metadata": {},
   "source": [
    "1. Leia 2 notas de um aluno, calcule a média e imprima aprovado ou reprovado (para ser\n",
    "aprovado a média deve ser no mínimo 7)"
   ]
  },
  {
   "cell_type": "code",
   "execution_count": null,
   "metadata": {},
   "outputs": [],
   "source": [
    "vel = float(input('digite a vel do carro'))\n",
    "if vel > 80:\n",
    "    multa = 7 * (vel - 80)\n",
    "    print(f' foi exdd')\n",
    "    print('o valor da multa será')\n",
    "      "
   ]
  },
  {
   "cell_type": "markdown",
   "metadata": {},
   "source": [
    "2. Peça dois números ao usuário e mostre qual o maior e qual o menor"
   ]
  },
  {
   "cell_type": "code",
   "execution_count": 15,
   "metadata": {},
   "outputs": [
    {
     "name": "stdout",
     "output_type": "stream",
     "text": [
      "o  2 e maior que o 2\n"
     ]
    }
   ],
   "source": [
    "#receber idade \n",
    "primeiro_numero = int(input('digite um numero'))\n",
    "segundo_numero = int(input('digite o segundo numero'))\n",
    "\n",
    "if primeiro_numero > segundo_numero :\n",
    "    print(f'o  {primeiro_numero} e maior que o {segundo_numero}') \n",
    "else : \n",
    "     print(f'o  {segundo_numero} e maior que o {primeiro_numero}') \n"
   ]
  },
  {
   "cell_type": "markdown",
   "metadata": {},
   "source": [
    "3. Receba um inteiro e diga se é par ou ímpar."
   ]
  },
  {
   "cell_type": "code",
   "execution_count": 16,
   "metadata": {},
   "outputs": [
    {
     "name": "stdout",
     "output_type": "stream",
     "text": [
      "o 2 e numero par\n"
     ]
    }
   ],
   "source": [
    "primeiro_numero = int(input('digite um numero'))\n",
    "resto = primeiro_numero % 2\n",
    "if resto  % 2 ==0:\n",
    " print(f'o {primeiro_numero} e numero par')\n",
    "else :\n",
    " print(f'o {primeiro_numero}e numero impar')"
   ]
  },
  {
   "cell_type": "markdown",
   "metadata": {},
   "source": [
    "4. Receba um número inteiro e diga se é positivo ou negativo"
   ]
  },
  {
   "cell_type": "code",
   "execution_count": 7,
   "metadata": {},
   "outputs": [
    {
     "name": "stdout",
     "output_type": "stream",
     "text": [
      "2 e negativo\n"
     ]
    }
   ],
   "source": [
    "receba_numero = int(input('digite um numero'))\n",
    "if receba_numero < 0: \n",
    "    print(f'o {receba_numero}é positivo')\n",
    "else : \n",
    "    print(f'{receba_numero} e negativo')"
   ]
  },
  {
   "cell_type": "markdown",
   "metadata": {},
   "source": [
    "5. Pergunte o ano de nascimento de uma pessoa e diga se ele é maior de idade"
   ]
  },
  {
   "cell_type": "code",
   "execution_count": 17,
   "metadata": {},
   "outputs": [
    {
     "name": "stdout",
     "output_type": "stream",
     "text": [
      "38é maior de idade\n"
     ]
    }
   ],
   "source": [
    "num = int(input('digita_numero de nascimento'))\n",
    "idade = 2024 - num\n",
    "if idade >=18:  \n",
    "    print(f'{idade}é maior de idade')\n",
    "else :\n",
    "    print('menor de idade')\n"
   ]
  },
  {
   "cell_type": "markdown",
   "metadata": {},
   "source": [
    "6. Ler dois números inteiros e informar se estes são iguais ou diferentes."
   ]
  },
  {
   "cell_type": "code",
   "execution_count": 18,
   "metadata": {},
   "outputs": [
    {
     "name": "stdout",
     "output_type": "stream",
     "text": [
      " esses numeros são iguais\n"
     ]
    }
   ],
   "source": [
    "num1 = int(input('digite um numero'))\n",
    "num2 = int(input('digite outro numero'))\n",
    "if num1 != num2 :\n",
    "    print( ' esses numeros são iguais')\n",
    "else : \n",
    "    print(' esses numeros são difrentes ')\n",
    "\n",
    "\n",
    " "
   ]
  },
  {
   "cell_type": "markdown",
   "metadata": {},
   "source": [
    "7- Receba a velocidade do carro e exiba que foi multado se for maior que 80km/h, o valor da\n",
    "multa será R$ 7,00 por cada km excedido, exibir o valor da multa"
   ]
  },
  {
   "cell_type": "code",
   "execution_count": null,
   "metadata": {},
   "outputs": [],
   "source": []
  },
  {
   "cell_type": "markdown",
   "metadata": {},
   "source": [
    "01/03/2024  - Desafios EXTRA "
   ]
  },
  {
   "cell_type": "markdown",
   "metadata": {},
   "source": [
    "1- Escreva um programa que calcule o preço a ser pago por um produto considerando um desconto de 10% se o valor da compra for maior que R$ 100,00."
   ]
  },
  {
   "cell_type": "code",
   "execution_count": null,
   "metadata": {},
   "outputs": [],
   "source": []
  },
  {
   "cell_type": "markdown",
   "metadata": {},
   "source": [
    "2- Desenvolva um programa que receba o valor de 3 lados de um triângulo e verifique se pode formar um triângulo."
   ]
  },
  {
   "cell_type": "markdown",
   "metadata": {},
   "source": [
    "3- Crie um programa que receba 2 valores e troque os valores das variáveis entre si, ex.: var a=1 e b=2 , exibir \"O valor da variável a=2 e b=1\""
   ]
  },
  {
   "cell_type": "markdown",
   "metadata": {},
   "source": [
    "4- Refaça o exercício anterior, sem utilizar variáveis adicionais"
   ]
  }
 ],
 "metadata": {
  "kernelspec": {
   "display_name": "Python 3",
   "language": "python",
   "name": "python3"
  },
  "language_info": {
   "codemirror_mode": {
    "name": "ipython",
    "version": 3
   },
   "file_extension": ".py",
   "mimetype": "text/x-python",
   "name": "python",
   "nbconvert_exporter": "python",
   "pygments_lexer": "ipython3",
   "version": "3.12.2"
  }
 },
 "nbformat": 4,
 "nbformat_minor": 2
}
