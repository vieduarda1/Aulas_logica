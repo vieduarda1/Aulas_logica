{
 "cells": [
  {
   "cell_type": "markdown",
   "metadata": {},
   "source": [
    "1- Crie uma lista com os números de 1 a 10 e imprima cada número."
   ]
  },
  {
   "cell_type": "code",
   "execution_count": 2,
   "metadata": {},
   "outputs": [
    {
     "name": "stdout",
     "output_type": "stream",
     "text": [
      "1\n",
      "2\n",
      "3\n",
      "4\n",
      "5\n",
      "6\n",
      "7\n",
      "8\n",
      "9\n",
      "10\n"
     ]
    }
   ],
   "source": [
    "lista_numero = [1,2,3,4,5,6,7,8,9,10]\n",
    "for numero in lista_numero :\n",
    "    print(numero)"
   ]
  },
  {
   "cell_type": "markdown",
   "metadata": {},
   "source": [
    " 2 - Crie uma lista com os nomes de três amigos e imprima cada nome."
   ]
  },
  {
   "cell_type": "code",
   "execution_count": 18,
   "metadata": {},
   "outputs": [
    {
     "name": "stdout",
     "output_type": "stream",
     "text": [
      "isa\n",
      "dalete\n",
      "livia\n"
     ]
    }
   ],
   "source": [
    "lista_amigos = ['isa', 'dalete', 'livia']\n",
    "for amigos in lista_amigos :\n",
    "    print(amigos)"
   ]
  },
  {
   "cell_type": "markdown",
   "metadata": {},
   "source": [
    " 3- Crie uma lista com os meses do ano e imprima apenas os meses que começam com \"J\"."
   ]
  },
  {
   "cell_type": "code",
   "execution_count": 20,
   "metadata": {},
   "outputs": [
    {
     "name": "stdout",
     "output_type": "stream",
     "text": [
      "janeiro\n",
      "junho\n",
      "julho\n"
     ]
    }
   ],
   "source": [
    "Mesesdoano = ['janeiro', 'fevereiro', 'março', 'abril', 'maio', 'junho', 'julho', 'agosto', 'setembro', 'outubro', 'novembro' , 'dezembro']\n",
    "for mes in Mesesdoano :\n",
    "    if mes [0] =='j' :\n",
    "        print(mes)\n"
   ]
  },
  {
   "cell_type": "markdown",
   "metadata": {},
   "source": [
    " 4- Crie uma lista com as palavras \"gato\", \"cachorro\", \"pássaro\" e \"peixe\", e imprima cada palavra\n",
    "em maiúsculas."
   ]
  },
  {
   "cell_type": "code",
   "execution_count": 26,
   "metadata": {},
   "outputs": [
    {
     "name": "stdout",
     "output_type": "stream",
     "text": [
      "GATO\n",
      "CACHORRO\n",
      "PÁSSARO\n",
      "PEIXE\n"
     ]
    }
   ],
   "source": [
    "animais_lista = ['gato', 'cachorro','pássaro','peixe']\n",
    "for animal in animais_lista: \n",
    "    print(animal.upper())"
   ]
  },
  {
   "cell_type": "markdown",
   "metadata": {},
   "source": [
    "5 -Crie uma lista com 5 números aleatórios e exiba o nr e seu dobro."
   ]
  },
  {
   "cell_type": "code",
   "execution_count": 7,
   "metadata": {},
   "outputs": [
    {
     "name": "stdout",
     "output_type": "stream",
     "text": [
      "o dobro de 5 é 10\n",
      "o dobro de 6 é 12\n",
      "o dobro de 3 é 6\n",
      "o dobro de 2 é 4\n",
      "o dobro de 2526 é 5052\n"
     ]
    }
   ],
   "source": [
    "lista_nr = [5,6,3,2,2526]\n",
    "for nr in lista_nr :\n",
    "    print(f'o dobro de {nr} é {nr * 2}')"
   ]
  },
  {
   "cell_type": "markdown",
   "metadata": {},
   "source": [
    "6 -Crie uma lista com valores numéricos e encontre o maior e o menor elemento dessa lista."
   ]
  },
  {
   "cell_type": "code",
   "execution_count": 28,
   "metadata": {},
   "outputs": [
    {
     "name": "stdout",
     "output_type": "stream",
     "text": [
      "5 58\n",
      "58\n",
      "5\n"
     ]
    }
   ],
   "source": [
    "nrs = [5,6,25,36,58]\n",
    "mnr_nr =100000\n",
    "maior_nr = 0 \n",
    "for nrATUAL in nrs :\n",
    "    if nrATUAL > maior_nr :\n",
    "        maior_nr = nrATUAL \n",
    "    if nrATUAL < mnr_nr :\n",
    "       mnr_nr = nrATUAL\n",
    "\n",
    "print(mnr_nr, maior_nr)\n",
    "\n",
    "\n",
    "\n",
    "\n",
    "#Utlizandos as funções printas do pyton \n",
    "print(max(nrs))\n",
    "print(min(nrs))"
   ]
  },
  {
   "cell_type": "markdown",
   "metadata": {},
   "source": [
    "7- Receba uma palavra do usuário e calcule quantas vogais há nesta palavra."
   ]
  },
  {
   "cell_type": "code",
   "execution_count": 10,
   "metadata": {},
   "outputs": [
    {
     "name": "stdout",
     "output_type": "stream",
     "text": [
      " a plavra paralelepípedoe tem 6 vogais\n"
     ]
    }
   ],
   "source": [
    "vogais = ['a', 'e','i','o','u']\n",
    "qntd_vogais = 0\n",
    "palvra = input('digite uma palvra')\n",
    "for letra in palvra :\n",
    "    if letra in vogais :\n",
    "        qntd_vogais = qntd_vogais + 1 \n",
    "print(f' a plavra {palvra}e tem {qntd_vogais} vogais')\n"
   ]
  },
  {
   "cell_type": "markdown",
   "metadata": {},
   "source": [
    "8- Nessa string ‘Gol;Corsa;Palio;Monza;Fusca;’, faça a separação desses itens para uma lista e\n",
    "exiba o item e a posição que ele está"
   ]
  },
  {
   "cell_type": "code",
   "execution_count": 16,
   "metadata": {},
   "outputs": [
    {
     "name": "stdout",
     "output_type": "stream",
     "text": [
      "1ºgol\n",
      "2ºCorsa\n",
      "3ºPalio\n",
      "4ºMonza\n",
      "5ºFusca\n"
     ]
    }
   ],
   "source": [
    "prd = 'gol,Corsa,Palio,Monza,Fusca'\n",
    "lista_prd = prd.split(',') \n",
    "for pos , prd in enumerate (lista_prd) :\n",
    "    #exibindo as variaveis de cada intem da lista \n",
    "    print(f'{pos+1}º{prd}')"
   ]
  },
  {
   "cell_type": "markdown",
   "metadata": {},
   "source": [
    "9. Faça um programa que vai ler valores numéricos e guardá-los em uma lista, caso o\n",
    "usuário digite 0, o programa mostre:\n",
    "A – Quantos números foram digitados.\n",
    "B – Mostre a lista em ordem crescente.\n",
    "C – Mostre a lista em ordem decrescente.\n",
    "D – O maior valor\n",
    "E – O menor valor\n",
    "D – Se o valor 5 foi digitado na lista ou não."
   ]
  },
  {
   "cell_type": "code",
   "execution_count": 15,
   "metadata": {},
   "outputs": [
    {
     "name": "stdout",
     "output_type": "stream",
     "text": [
      "5\n",
      "[2, 3, 10, 58, 65]\n",
      "[65, 58, 10, 3, 2]\n"
     ]
    }
   ],
   "source": [
    "nrs = [10,58,65,3,2]\n",
    "print(len(nrs))  #Total de itens da lista \n",
    "nrs.sort()   #ordenando a lista em ordem crescente \n",
    "print(nrs)\n",
    "nrs.reverse()  #Ordenando a lista em ordem descrescente \n",
    "print(nrs)\n",
    "\n",
    "\n"
   ]
  },
  {
   "cell_type": "markdown",
   "metadata": {},
   "source": [
    "10. Faça um programa que peça o nome de 6 pessoas e pergunte o sexo delas e\n",
    "armazene em 2 listas, uma de homem caso coloque o sexo ‘M’ e outra de mulher caso\n",
    "coloque o sexo ‘F’, no final exiba a lista de homens e mulheres"
   ]
  }
 ],
 "metadata": {
  "kernelspec": {
   "display_name": "Python 3",
   "language": "python",
   "name": "python3"
  },
  "language_info": {
   "codemirror_mode": {
    "name": "ipython",
    "version": 3
   },
   "file_extension": ".py",
   "mimetype": "text/x-python",
   "name": "python",
   "nbconvert_exporter": "python",
   "pygments_lexer": "ipython3",
   "version": "3.12.3"
  }
 },
 "nbformat": 4,
 "nbformat_minor": 2
}
